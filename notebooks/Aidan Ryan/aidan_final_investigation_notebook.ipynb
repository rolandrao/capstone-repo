{
 "cells": [
  {
   "attachments": {},
   "cell_type": "markdown",
   "metadata": {},
   "source": [
    "Aidan's Investigation Notebook\n",
    "\n",
    "\n",
    "\n"
   ]
  },
  {
   "cell_type": "code",
   "execution_count": 3,
   "metadata": {},
   "outputs": [],
   "source": [
    "# Imports\n",
    "import pandas as pd\n",
    "import numpy as np\n",
    "import sqlite3\n",
    "import matplotlib.pyplot as plt\n",
    "import seaborn as sns\n",
    "from scipy.stats import f_oneway\n",
    "from scipy import stats\n",
    "import math  \n",
    "\n",
    "conn = sqlite3.connect('../../data/im.db')"
   ]
  },
  {
   "attachments": {},
   "cell_type": "markdown",
   "metadata": {},
   "source": [
    "## Investigating Director on Movie Net Profit (with Walter)"
   ]
  },
  {
   "cell_type": "markdown",
   "metadata": {},
   "source": [
    "We are investigating the relationship between directors and net profit. To do so, we will take the directors who have made at least 5 movies, sort by their net profit, and only keep the top 10. "
   ]
  },
  {
   "cell_type": "code",
   "execution_count": 4,
   "metadata": {},
   "outputs": [
    {
     "data": {
      "text/html": [
       "<div>\n",
       "<style scoped>\n",
       "    .dataframe tbody tr th:only-of-type {\n",
       "        vertical-align: middle;\n",
       "    }\n",
       "\n",
       "    .dataframe tbody tr th {\n",
       "        vertical-align: top;\n",
       "    }\n",
       "\n",
       "    .dataframe thead th {\n",
       "        text-align: right;\n",
       "    }\n",
       "</style>\n",
       "<table border=\"1\" class=\"dataframe\">\n",
       "  <thead>\n",
       "    <tr style=\"text-align: right;\">\n",
       "      <th></th>\n",
       "      <th>director</th>\n",
       "      <th>mean_net_profit</th>\n",
       "      <th>num_movies</th>\n",
       "    </tr>\n",
       "  </thead>\n",
       "  <tbody>\n",
       "    <tr>\n",
       "      <th>0</th>\n",
       "      <td>Tim Burton</td>\n",
       "      <td>1.908611e+08</td>\n",
       "      <td>6</td>\n",
       "    </tr>\n",
       "    <tr>\n",
       "      <th>1</th>\n",
       "      <td>Ridley Scott</td>\n",
       "      <td>1.769673e+08</td>\n",
       "      <td>7</td>\n",
       "    </tr>\n",
       "    <tr>\n",
       "      <th>2</th>\n",
       "      <td>Steven Spielberg</td>\n",
       "      <td>1.647550e+08</td>\n",
       "      <td>8</td>\n",
       "    </tr>\n",
       "    <tr>\n",
       "      <th>3</th>\n",
       "      <td>Jon M. Chu</td>\n",
       "      <td>1.502429e+08</td>\n",
       "      <td>6</td>\n",
       "    </tr>\n",
       "    <tr>\n",
       "      <th>4</th>\n",
       "      <td>Clint Eastwood</td>\n",
       "      <td>1.379160e+08</td>\n",
       "      <td>6</td>\n",
       "    </tr>\n",
       "    <tr>\n",
       "      <th>5</th>\n",
       "      <td>Jaume Collet-Serra</td>\n",
       "      <td>7.547862e+07</td>\n",
       "      <td>6</td>\n",
       "    </tr>\n",
       "    <tr>\n",
       "      <th>6</th>\n",
       "      <td>Denis Villeneuve</td>\n",
       "      <td>5.732786e+07</td>\n",
       "      <td>6</td>\n",
       "    </tr>\n",
       "    <tr>\n",
       "      <th>7</th>\n",
       "      <td>Tim Story</td>\n",
       "      <td>4.845786e+07</td>\n",
       "      <td>9</td>\n",
       "    </tr>\n",
       "    <tr>\n",
       "      <th>8</th>\n",
       "      <td>Steven Soderbergh</td>\n",
       "      <td>4.558173e+07</td>\n",
       "      <td>7</td>\n",
       "    </tr>\n",
       "    <tr>\n",
       "      <th>9</th>\n",
       "      <td>David Gordon Green</td>\n",
       "      <td>4.236483e+07</td>\n",
       "      <td>8</td>\n",
       "    </tr>\n",
       "  </tbody>\n",
       "</table>\n",
       "</div>"
      ],
      "text/plain": [
       "             director  mean_net_profit  num_movies\n",
       "0          Tim Burton     1.908611e+08           6\n",
       "1        Ridley Scott     1.769673e+08           7\n",
       "2    Steven Spielberg     1.647550e+08           8\n",
       "3          Jon M. Chu     1.502429e+08           6\n",
       "4      Clint Eastwood     1.379160e+08           6\n",
       "5  Jaume Collet-Serra     7.547862e+07           6\n",
       "6    Denis Villeneuve     5.732786e+07           6\n",
       "7           Tim Story     4.845786e+07           9\n",
       "8   Steven Soderbergh     4.558173e+07           7\n",
       "9  David Gordon Green     4.236483e+07           8"
      ]
     },
     "execution_count": 4,
     "metadata": {},
     "output_type": "execute_result"
    }
   ],
   "source": [
    "director_AGG = pd.read_sql(\"\"\"\n",
    "SELECT pe.primary_name as director, AVG(mob.worldwide_gross - mob.production_budget) as mean_net_profit, COUNT(pe.primary_name) as num_movies\n",
    "FROM movie_basics mb, principals pr, persons pe, movie_budgets mob\n",
    "WHERE   mb.movie_id = pr.movie_id \n",
    "        AND pr.person_id = pe.person_id\n",
    "        AND mb.primary_title = mob.movie\n",
    "        AND pr.category = 'director'\n",
    "GROUP BY pe.primary_name\n",
    "HAVING num_movies > 5\n",
    "ORDER BY mean_net_profit DESC\n",
    "LIMIT 10\n",
    ";\n",
    "\"\"\", conn)\n",
    "director_AGG"
   ]
  },
  {
   "attachments": {},
   "cell_type": "markdown",
   "metadata": {},
   "source": [
    "Graphing the top 10 Directors in terms of mean movie net profit"
   ]
  },
  {
   "cell_type": "code",
   "execution_count": 5,
   "metadata": {},
   "outputs": [
    {
     "data": {
      "text/plain": [
       "<Figure size 720x432 with 0 Axes>"
      ]
     },
     "metadata": {},
     "output_type": "display_data"
    },
    {
     "data": {
      "image/png": "[encoded data removed]",
      "text/plain": [
       "<Figure size 432x288 with 1 Axes>"
      ]
     },
     "metadata": {
      "needs_background": "light"
     },
     "output_type": "display_data"
    }
   ],
   "source": [
    "plt.figure(figsize=(10, 6))\n",
    "director_AGG.plot.bar(x='director', y='mean_net_profit')\n",
    "plt.title('Mean Net Profit by Director')\n",
    "plt.xlabel('Director')\n",
    "plt.ylabel('Mean Net Profit (in millions USD)')\n",
    "plt.xticks(rotation=45, ha='right')\n",
    "plt.tight_layout()\n",
    "plt.show()"
   ]
  },
  {
   "attachments": {},
   "cell_type": "markdown",
   "metadata": {},
   "source": [
    "Out of the top 10 directors who have made at least 5 movies, the top 5 have a mean net profit per movie that far exceeds the rest. Now, using the aggregated data queried above and unaggregated data queried below, we'll use statistics to prove that the top 10 directors make significantly more profit per movie than the overall population. "
   ]
  },
  {
   "attachments": {},
   "cell_type": "markdown",
   "metadata": {},
   "source": [
    "Unaggregated Data (also known as the population). We will compare the top 10 directors to these 3868 directors to prove that starting Computer Vision's studio with movies by directors from the sample will significantly impact success. "
   ]
  },
  {
   "cell_type": "code",
   "execution_count": 36,
   "metadata": {},
   "outputs": [
    {
     "data": {
      "text/html": [
       "<div>\n",
       "<style scoped>\n",
       "    .dataframe tbody tr th:only-of-type {\n",
       "        vertical-align: middle;\n",
       "    }\n",
       "\n",
       "    .dataframe tbody tr th {\n",
       "        vertical-align: top;\n",
       "    }\n",
       "\n",
       "    .dataframe thead th {\n",
       "        text-align: right;\n",
       "    }\n",
       "</style>\n",
       "<table border=\"1\" class=\"dataframe\">\n",
       "  <thead>\n",
       "    <tr style=\"text-align: right;\">\n",
       "      <th></th>\n",
       "      <th>director</th>\n",
       "      <th>net_profit</th>\n",
       "    </tr>\n",
       "  </thead>\n",
       "  <tbody>\n",
       "    <tr>\n",
       "      <th>0</th>\n",
       "      <td>Atsushi Wada</td>\n",
       "      <td>2351345279</td>\n",
       "    </tr>\n",
       "    <tr>\n",
       "      <th>1</th>\n",
       "      <td>Ravi Punj</td>\n",
       "      <td>2008208395</td>\n",
       "    </tr>\n",
       "    <tr>\n",
       "      <th>2</th>\n",
       "      <td>Anthony Russo</td>\n",
       "      <td>1748134200</td>\n",
       "    </tr>\n",
       "    <tr>\n",
       "      <th>3</th>\n",
       "      <td>Joe Russo</td>\n",
       "      <td>1748134200</td>\n",
       "    </tr>\n",
       "    <tr>\n",
       "      <th>4</th>\n",
       "      <td>Colin Trevorrow</td>\n",
       "      <td>1433854864</td>\n",
       "    </tr>\n",
       "    <tr>\n",
       "      <th>...</th>\n",
       "      <td>...</td>\n",
       "      <td>...</td>\n",
       "    </tr>\n",
       "    <tr>\n",
       "      <th>3864</th>\n",
       "      <td>Chris Sanders</td>\n",
       "      <td>-82000000</td>\n",
       "    </tr>\n",
       "    <tr>\n",
       "      <th>3865</th>\n",
       "      <td>David Ayer</td>\n",
       "      <td>-90000000</td>\n",
       "    </tr>\n",
       "    <tr>\n",
       "      <th>3866</th>\n",
       "      <td>F. Gary Gray</td>\n",
       "      <td>-106900000</td>\n",
       "    </tr>\n",
       "    <tr>\n",
       "      <th>3867</th>\n",
       "      <td>Simon Wells</td>\n",
       "      <td>-110450242</td>\n",
       "    </tr>\n",
       "    <tr>\n",
       "      <th>3868</th>\n",
       "      <td>Simon Kinberg</td>\n",
       "      <td>-200237650</td>\n",
       "    </tr>\n",
       "  </tbody>\n",
       "</table>\n",
       "<p>3869 rows × 2 columns</p>\n",
       "</div>"
      ],
      "text/plain": [
       "             director  net_profit\n",
       "0        Atsushi Wada  2351345279\n",
       "1           Ravi Punj  2008208395\n",
       "2       Anthony Russo  1748134200\n",
       "3           Joe Russo  1748134200\n",
       "4     Colin Trevorrow  1433854864\n",
       "...               ...         ...\n",
       "3864    Chris Sanders   -82000000\n",
       "3865       David Ayer   -90000000\n",
       "3866     F. Gary Gray  -106900000\n",
       "3867      Simon Wells  -110450242\n",
       "3868    Simon Kinberg  -200237650\n",
       "\n",
       "[3869 rows x 2 columns]"
      ]
     },
     "execution_count": 36,
     "metadata": {},
     "output_type": "execute_result"
    }
   ],
   "source": [
    "director = pd.read_sql(\"\"\"\n",
    "SELECT pe.primary_name as director, (mob.worldwide_gross - mob.production_budget) as net_profit\n",
    "FROM movie_basics mb, principals pr, persons pe, movie_budgets mob\n",
    "WHERE   mb.movie_id = pr.movie_id \n",
    "        AND pr.person_id = pe.person_id\n",
    "        AND mb.primary_title = mob.movie\n",
    "        AND pr.category = 'director'\n",
    "ORDER BY net_profit DESC\n",
    ";\n",
    "\"\"\", conn)\n",
    "director"
   ]
  },
  {
   "cell_type": "markdown",
   "metadata": {},
   "source": [
    "Our goal is to gain a deeper understanding of the statistics underlying our sample population, with a particular focus on identifying any significant differences between two groups, namely the directors and mean net profits. We aim to test our hypothesis that directors make a significantly higher net profit than the population mean, while rejecting the null hypothesis that they do not.\n",
    "\n",
    "Hypothesis: (Director) makes significantly more net profit than our population mean.\n",
    "\n",
    "Null Hypothesis: (Director) does not make significantly more net profit than our population mean. \n",
    "\n",
    "The formula for the t-test is as follows:\n",
    "$$  test\\_ statistic = \\frac{\\bar{x} - \\mu}{\\frac{\\sigma}{\\sqrt{n}}} $$"
   ]
  },
  {
   "cell_type": "code",
   "execution_count": 7,
   "metadata": {},
   "outputs": [
    {
     "name": "stdout",
     "output_type": "stream",
     "text": [
      "Sample mean of mean net profit: 108995329.64623015\n",
      "Sample standard deviation of mean net profit: 60449890.53309928\n",
      "population mean of mean net profit: 66560946.470664255\n"
     ]
    }
   ],
   "source": [
    "sample_mean = director_AGG['mean_net_profit'].mean()\n",
    "sample_variance = ((director_AGG['mean_net_profit'] - sample_mean)**2).sum()/(len(director_AGG)-1)\n",
    "sample_std = math.sqrt(sample_variance)\n",
    "population_mean = director['net_profit'].mean()\n",
    "\n",
    "t_test = (sample_mean - population_mean) / (sample_std/math.sqrt(10))\n",
    "\n",
    "print(\"Sample mean of mean net profit:\", sample_mean)\n",
    "print(\"Sample standard deviation of mean net profit:\", sample_std)\n",
    "print(\"population mean of mean net profit:\", population_mean)"
   ]
  },
  {
   "cell_type": "code",
   "execution_count": 8,
   "metadata": {},
   "outputs": [
    {
     "data": {
      "text/plain": [
       "Ttest_1sampResult(statistic=2.2198435887264627, pvalue=0.05357772228437998)"
      ]
     },
     "execution_count": 8,
     "metadata": {},
     "output_type": "execute_result"
    }
   ],
   "source": [
    "t_test = stats.ttest_1samp(director_AGG['mean_net_profit'], population_mean)\n",
    "t_test"
   ]
  },
  {
   "attachments": {},
   "cell_type": "markdown",
   "metadata": {},
   "source": [
    "Conclusion: At the 90% significance level, the top 10 most profitable directors (who have made at least 5 movies) are significantly more successful in terms of profit than the greater population of directors. Using the sample of directors for the first movies of Computer Vision's new studio will greatly help success."
   ]
  },
  {
   "cell_type": "code",
   "execution_count": 22,
   "metadata": {},
   "outputs": [
    {
     "data": {
      "text/plain": [
       "<AxesSubplot:xlabel='net_profit', ylabel='Count'>"
      ]
     },
     "execution_count": 22,
     "metadata": {},
     "output_type": "execute_result"
    },
    {
     "data": {
      "image/png": "[encoded data removed]",
      "text/plain": [
       "<Figure size 432x288 with 1 Axes>"
      ]
     },
     "metadata": {
      "needs_background": "light"
     },
     "output_type": "display_data"
    }
   ],
   "source": [
    "sns.histplot(director, x = director['net_profit'], bins = 30)"
   ]
  },
  {
   "cell_type": "code",
   "execution_count": 37,
   "metadata": {},
   "outputs": [
    {
     "data": {
      "text/html": [
       "<div>\n",
       "<style scoped>\n",
       "    .dataframe tbody tr th:only-of-type {\n",
       "        vertical-align: middle;\n",
       "    }\n",
       "\n",
       "    .dataframe tbody tr th {\n",
       "        vertical-align: top;\n",
       "    }\n",
       "\n",
       "    .dataframe thead th {\n",
       "        text-align: right;\n",
       "    }\n",
       "</style>\n",
       "<table border=\"1\" class=\"dataframe\">\n",
       "  <thead>\n",
       "    <tr style=\"text-align: right;\">\n",
       "      <th></th>\n",
       "      <th>director</th>\n",
       "      <th>mean_net_profit</th>\n",
       "      <th>num_movies</th>\n",
       "    </tr>\n",
       "  </thead>\n",
       "  <tbody>\n",
       "    <tr>\n",
       "      <th>0</th>\n",
       "      <td>Atsushi Wada</td>\n",
       "      <td>2.351345e+09</td>\n",
       "      <td>1</td>\n",
       "    </tr>\n",
       "    <tr>\n",
       "      <th>1</th>\n",
       "      <td>Ravi Punj</td>\n",
       "      <td>2.008208e+09</td>\n",
       "      <td>1</td>\n",
       "    </tr>\n",
       "    <tr>\n",
       "      <th>2</th>\n",
       "      <td>Jennifer Lee</td>\n",
       "      <td>1.122470e+09</td>\n",
       "      <td>1</td>\n",
       "    </tr>\n",
       "    <tr>\n",
       "      <th>3</th>\n",
       "      <td>Chris Buck</td>\n",
       "      <td>1.122470e+09</td>\n",
       "      <td>1</td>\n",
       "    </tr>\n",
       "    <tr>\n",
       "      <th>4</th>\n",
       "      <td>Chi-kin Kwok</td>\n",
       "      <td>1.122470e+09</td>\n",
       "      <td>1</td>\n",
       "    </tr>\n",
       "    <tr>\n",
       "      <th>5</th>\n",
       "      <td>Adam Green</td>\n",
       "      <td>1.122470e+09</td>\n",
       "      <td>1</td>\n",
       "    </tr>\n",
       "    <tr>\n",
       "      <th>6</th>\n",
       "      <td>Joe Russo</td>\n",
       "      <td>1.060869e+09</td>\n",
       "      <td>3</td>\n",
       "    </tr>\n",
       "    <tr>\n",
       "      <th>7</th>\n",
       "      <td>Anthony Russo</td>\n",
       "      <td>1.060869e+09</td>\n",
       "      <td>3</td>\n",
       "    </tr>\n",
       "    <tr>\n",
       "      <th>8</th>\n",
       "      <td>Kyle Balda</td>\n",
       "      <td>1.023032e+09</td>\n",
       "      <td>2</td>\n",
       "    </tr>\n",
       "    <tr>\n",
       "      <th>9</th>\n",
       "      <td>Eric Guillon</td>\n",
       "      <td>9.597278e+08</td>\n",
       "      <td>1</td>\n",
       "    </tr>\n",
       "  </tbody>\n",
       "</table>\n",
       "</div>"
      ],
      "text/plain": [
       "        director  mean_net_profit  num_movies\n",
       "0   Atsushi Wada     2.351345e+09           1\n",
       "1      Ravi Punj     2.008208e+09           1\n",
       "2   Jennifer Lee     1.122470e+09           1\n",
       "3     Chris Buck     1.122470e+09           1\n",
       "4   Chi-kin Kwok     1.122470e+09           1\n",
       "5     Adam Green     1.122470e+09           1\n",
       "6      Joe Russo     1.060869e+09           3\n",
       "7  Anthony Russo     1.060869e+09           3\n",
       "8     Kyle Balda     1.023032e+09           2\n",
       "9   Eric Guillon     9.597278e+08           1"
      ]
     },
     "execution_count": 37,
     "metadata": {},
     "output_type": "execute_result"
    }
   ],
   "source": [
    "director_AGG = pd.read_sql(\"\"\"\n",
    "SELECT pe.primary_name as director, AVG(mob.worldwide_gross - mob.production_budget) as mean_net_profit, COUNT(pe.primary_name) as num_movies\n",
    "FROM movie_basics mb, principals pr, persons pe, movie_budgets mob\n",
    "WHERE   mb.movie_id = pr.movie_id \n",
    "        AND pr.person_id = pe.person_id\n",
    "        AND mb.primary_title = mob.movie\n",
    "        AND pr.category = 'director'\n",
    "GROUP BY pe.primary_name\n",
    "ORDER BY mean_net_profit DESC\n",
    "LIMIT 10\n",
    ";\n",
    "\"\"\", conn)\n",
    "director_AGG"
   ]
  },
  {
   "cell_type": "code",
   "execution_count": null,
   "metadata": {},
   "outputs": [],
   "source": []
  }
 ],
 "metadata": {
  "kernelspec": {
   "display_name": "Python (learn-env)",
   "language": "python",
   "name": "learn-env"
  },
  "language_info": {
   "codemirror_mode": {
    "name": "ipython",
    "version": 3
   },
   "file_extension": ".py",
   "mimetype": "text/x-python",
   "name": "python",
   "nbconvert_exporter": "python",
   "pygments_lexer": "ipython3",
   "version": "3.8.5"
  }
 },
 "nbformat": 4,
 "nbformat_minor": 4
}
