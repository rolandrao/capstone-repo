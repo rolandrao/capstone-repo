{
 "cells": [
  {
   "cell_type": "markdown",
   "metadata": {},
   "source": [
    "# Walter's Working Notebook"
   ]
  },
  {
   "cell_type": "markdown",
   "metadata": {},
   "source": [
    "In this notebook we are testing to find a correlation between director and mean_net_profit\n",
    "This code was worked on by Walter Friedrich and Aidan Ryan "
   ]
  },
  {
   "cell_type": "markdown",
   "metadata": {},
   "source": [
    "Imports and SQL data connection "
   ]
  },
  {
   "cell_type": "code",
   "execution_count": 1,
   "metadata": {},
   "outputs": [],
   "source": [
    "# Imports\n",
    "import pandas as pd\n",
    "import matplotlib.pyplot as plt\n",
    "import numpy as np\n",
    "import sqlite3\n",
    "from scipy.stats import ttest_ind\n",
    "from scipy import stats \n",
    "from scipy.stats import f_oneway\n",
    "import seaborn as sns\n",
    "import math\n",
    "\n",
    "conn = sqlite3.connect('..\\..\\data\\im.db')"
   ]
  },
  {
   "cell_type": "markdown",
   "metadata": {},
   "source": [
    "Aggregated SQL query \n",
    "- Top 10 directors with highest mean_net_profit with num_movies greater than 5 \n",
    "- Ordered by highest mean_net_profit descending "
   ]
  },
  {
   "cell_type": "code",
   "execution_count": 2,
   "metadata": {
    "scrolled": true
   },
   "outputs": [
    {
     "data": {
      "text/html": [
       "<div>\n",
       "<style scoped>\n",
       "    .dataframe tbody tr th:only-of-type {\n",
       "        vertical-align: middle;\n",
       "    }\n",
       "\n",
       "    .dataframe tbody tr th {\n",
       "        vertical-align: top;\n",
       "    }\n",
       "\n",
       "    .dataframe thead th {\n",
       "        text-align: right;\n",
       "    }\n",
       "</style>\n",
       "<table border=\"1\" class=\"dataframe\">\n",
       "  <thead>\n",
       "    <tr style=\"text-align: right;\">\n",
       "      <th></th>\n",
       "      <th>director</th>\n",
       "      <th>mean_net_profit</th>\n",
       "      <th>num_movies</th>\n",
       "    </tr>\n",
       "  </thead>\n",
       "  <tbody>\n",
       "    <tr>\n",
       "      <th>0</th>\n",
       "      <td>Tim Burton</td>\n",
       "      <td>1.908611e+08</td>\n",
       "      <td>6</td>\n",
       "    </tr>\n",
       "    <tr>\n",
       "      <th>1</th>\n",
       "      <td>Ridley Scott</td>\n",
       "      <td>1.769673e+08</td>\n",
       "      <td>7</td>\n",
       "    </tr>\n",
       "    <tr>\n",
       "      <th>2</th>\n",
       "      <td>Steven Spielberg</td>\n",
       "      <td>1.647550e+08</td>\n",
       "      <td>8</td>\n",
       "    </tr>\n",
       "    <tr>\n",
       "      <th>3</th>\n",
       "      <td>Jon M. Chu</td>\n",
       "      <td>1.502429e+08</td>\n",
       "      <td>6</td>\n",
       "    </tr>\n",
       "    <tr>\n",
       "      <th>4</th>\n",
       "      <td>Clint Eastwood</td>\n",
       "      <td>1.379160e+08</td>\n",
       "      <td>6</td>\n",
       "    </tr>\n",
       "    <tr>\n",
       "      <th>5</th>\n",
       "      <td>Jaume Collet-Serra</td>\n",
       "      <td>7.547862e+07</td>\n",
       "      <td>6</td>\n",
       "    </tr>\n",
       "    <tr>\n",
       "      <th>6</th>\n",
       "      <td>Denis Villeneuve</td>\n",
       "      <td>5.732786e+07</td>\n",
       "      <td>6</td>\n",
       "    </tr>\n",
       "    <tr>\n",
       "      <th>7</th>\n",
       "      <td>Tim Story</td>\n",
       "      <td>4.845786e+07</td>\n",
       "      <td>9</td>\n",
       "    </tr>\n",
       "    <tr>\n",
       "      <th>8</th>\n",
       "      <td>Steven Soderbergh</td>\n",
       "      <td>4.558173e+07</td>\n",
       "      <td>7</td>\n",
       "    </tr>\n",
       "    <tr>\n",
       "      <th>9</th>\n",
       "      <td>David Gordon Green</td>\n",
       "      <td>4.236483e+07</td>\n",
       "      <td>8</td>\n",
       "    </tr>\n",
       "  </tbody>\n",
       "</table>\n",
       "</div>"
      ],
      "text/plain": [
       "             director  mean_net_profit  num_movies\n",
       "0          Tim Burton     1.908611e+08           6\n",
       "1        Ridley Scott     1.769673e+08           7\n",
       "2    Steven Spielberg     1.647550e+08           8\n",
       "3          Jon M. Chu     1.502429e+08           6\n",
       "4      Clint Eastwood     1.379160e+08           6\n",
       "5  Jaume Collet-Serra     7.547862e+07           6\n",
       "6    Denis Villeneuve     5.732786e+07           6\n",
       "7           Tim Story     4.845786e+07           9\n",
       "8   Steven Soderbergh     4.558173e+07           7\n",
       "9  David Gordon Green     4.236483e+07           8"
      ]
     },
     "execution_count": 2,
     "metadata": {},
     "output_type": "execute_result"
    }
   ],
   "source": [
    "director_AGG = pd.read_sql(\"\"\"\n",
    "SELECT pe.primary_name as director, AVG(mob.worldwide_gross - mob.production_budget) as mean_net_profit, COUNT(pe.primary_name) as num_movies\n",
    "FROM movie_basics mb, principals pr, persons pe, movie_budgets mob\n",
    "WHERE   mb.movie_id = pr.movie_id \n",
    "        AND pr.person_id = pe.person_id\n",
    "        AND mb.primary_title = mob.movie\n",
    "        AND pr.category = 'director'\n",
    "GROUP BY pe.primary_name\n",
    "HAVING num_movies > 5\n",
    "ORDER BY mean_net_profit DESC\n",
    "LIMIT 10\n",
    ";\n",
    "\"\"\", conn)\n",
    "director_AGG"
   ]
  },
  {
   "cell_type": "markdown",
   "metadata": {},
   "source": [
    "We're using matplotlib to create a bar graph and visualize our sample population data for better insights"
   ]
  },
  {
   "cell_type": "code",
   "execution_count": 3,
   "metadata": {},
   "outputs": [
    {
     "data": {
      "text/plain": [
       "<Figure size 720x432 with 0 Axes>"
      ]
     },
     "metadata": {},
     "output_type": "display_data"
    },
    {
     "data": {
      "image/png": "[encoded data removed]",
      "text/plain": [
       "<Figure size 432x288 with 1 Axes>"
      ]
     },
     "metadata": {
      "needs_background": "light"
     },
     "output_type": "display_data"
    }
   ],
   "source": [
    "plt.figure(figsize=(10, 6))\n",
    "director_AGG.plot.bar(x='director', y='mean_net_profit')\n",
    "plt.title('Mean Net Profit by Director')\n",
    "plt.xlabel('Director')\n",
    "plt.ylabel('Mean Net Profit (in millions USD)')\n",
    "plt.xticks(rotation=45, ha='right')\n",
    "plt.tight_layout()\n",
    "plt.show()"
   ]
  },
  {
   "cell_type": "markdown",
   "metadata": {},
   "source": [
    "Disaggregated SQL query \n",
    "2 categories \n",
    "   - Director \n",
    "   - net_profit "
   ]
  },
  {
   "cell_type": "code",
   "execution_count": 4,
   "metadata": {},
   "outputs": [
    {
     "data": {
      "text/html": [
       "<div>\n",
       "<style scoped>\n",
       "    .dataframe tbody tr th:only-of-type {\n",
       "        vertical-align: middle;\n",
       "    }\n",
       "\n",
       "    .dataframe tbody tr th {\n",
       "        vertical-align: top;\n",
       "    }\n",
       "\n",
       "    .dataframe thead th {\n",
       "        text-align: right;\n",
       "    }\n",
       "</style>\n",
       "<table border=\"1\" class=\"dataframe\">\n",
       "  <thead>\n",
       "    <tr style=\"text-align: right;\">\n",
       "      <th></th>\n",
       "      <th>director</th>\n",
       "      <th>net_profit</th>\n",
       "    </tr>\n",
       "  </thead>\n",
       "  <tbody>\n",
       "    <tr>\n",
       "      <th>0</th>\n",
       "      <td>Ethan Coen</td>\n",
       "      <td>42160680</td>\n",
       "    </tr>\n",
       "    <tr>\n",
       "      <th>1</th>\n",
       "      <td>Joel Coen</td>\n",
       "      <td>42160680</td>\n",
       "    </tr>\n",
       "    <tr>\n",
       "      <th>2</th>\n",
       "      <td>Anbarasan</td>\n",
       "      <td>-700000</td>\n",
       "    </tr>\n",
       "    <tr>\n",
       "      <th>3</th>\n",
       "      <td>Dexter Fletcher</td>\n",
       "      <td>22060480</td>\n",
       "    </tr>\n",
       "    <tr>\n",
       "      <th>4</th>\n",
       "      <td>Gary Ross</td>\n",
       "      <td>-26762748</td>\n",
       "    </tr>\n",
       "    <tr>\n",
       "      <th>...</th>\n",
       "      <td>...</td>\n",
       "      <td>...</td>\n",
       "    </tr>\n",
       "    <tr>\n",
       "      <th>3864</th>\n",
       "      <td>Joanna Wierig</td>\n",
       "      <td>-13627243</td>\n",
       "    </tr>\n",
       "    <tr>\n",
       "      <th>3865</th>\n",
       "      <td>Zefei Liu</td>\n",
       "      <td>45080579</td>\n",
       "    </tr>\n",
       "    <tr>\n",
       "      <th>3866</th>\n",
       "      <td>Chase Pottinger</td>\n",
       "      <td>45080579</td>\n",
       "    </tr>\n",
       "    <tr>\n",
       "      <th>3867</th>\n",
       "      <td>Yaser Talebi</td>\n",
       "      <td>-30147513</td>\n",
       "    </tr>\n",
       "    <tr>\n",
       "      <th>3868</th>\n",
       "      <td>Jay Coster</td>\n",
       "      <td>-191207</td>\n",
       "    </tr>\n",
       "  </tbody>\n",
       "</table>\n",
       "<p>3869 rows × 2 columns</p>\n",
       "</div>"
      ],
      "text/plain": [
       "             director  net_profit\n",
       "0          Ethan Coen    42160680\n",
       "1           Joel Coen    42160680\n",
       "2           Anbarasan     -700000\n",
       "3     Dexter Fletcher    22060480\n",
       "4           Gary Ross   -26762748\n",
       "...               ...         ...\n",
       "3864    Joanna Wierig   -13627243\n",
       "3865        Zefei Liu    45080579\n",
       "3866  Chase Pottinger    45080579\n",
       "3867     Yaser Talebi   -30147513\n",
       "3868       Jay Coster     -191207\n",
       "\n",
       "[3869 rows x 2 columns]"
      ]
     },
     "execution_count": 4,
     "metadata": {},
     "output_type": "execute_result"
    }
   ],
   "source": [
    "director = pd.read_sql(\"\"\"\n",
    "SELECT pe.primary_name as director, (mob.worldwide_gross - mob.production_budget) as net_profit\n",
    "FROM movie_basics mb, principals pr, persons pe, movie_budgets mob\n",
    "WHERE   mb.movie_id = pr.movie_id \n",
    "        AND pr.person_id = pe.person_id\n",
    "        AND mb.primary_title = mob.movie\n",
    "        AND pr.category = 'director'\n",
    ";\n",
    "\"\"\", conn)\n",
    "director"
   ]
  },
  {
   "attachments": {},
   "cell_type": "markdown",
   "metadata": {},
   "source": [
    "Our goal is to gain a deeper understanding of the statistics underlying our sample population, with a particular focus on identifying any significant differences between two groups, namely the directors and mean net profits. We aim to test our hypothesis that directors make a significantly higher net profit than the population mean, while rejecting the null hypothesis that they do not.\n",
    "\n",
    "Hypothesis: (Director) makes significantly more net profit than our population mean.\n",
    "\n",
    "Null Hypothesis: (Director) does not make significantly more net profit than our population mean. \n",
    "\n",
    "The formula for the t-test is as follows:\n",
    "$$  test\\_ statistic = \\frac{\\bar{x} - \\mu}{\\frac{\\sigma}{\\sqrt{n}}} $$"
   ]
  },
  {
   "cell_type": "code",
   "execution_count": 5,
   "metadata": {},
   "outputs": [
    {
     "name": "stdout",
     "output_type": "stream",
     "text": [
      "Sample mean of mean net profit: 108995329.64623015\n",
      "Sample standard deviation of mean net profit: 60449890.53309928\n",
      "population mean of mean net profit: 66560946.470664255\n",
      "t-test statistic: 2.219843588726463\n"
     ]
    }
   ],
   "source": [
    "sample_mean = director_AGG['mean_net_profit'].mean()\n",
    "sample_variance = ((director_AGG['mean_net_profit'] - sample_mean)**2).sum()/(len(director_AGG)-1)\n",
    "sample_std = math.sqrt(sample_variance)\n",
    "population_mean = director['net_profit'].mean()\n",
    "\n",
    "t_test = (sample_mean - population_mean) / (sample_std/math.sqrt(10))\n",
    "\n",
    "print(\"Sample mean of mean net profit:\", sample_mean)\n",
    "print(\"Sample standard deviation of mean net profit:\", sample_std)\n",
    "print(\"population mean of mean net profit:\", population_mean)\n",
    "print(\"t-test statistic:\", t_test)"
   ]
  },
  {
   "cell_type": "markdown",
   "metadata": {},
   "source": [
    "The t-test statistic of 2.2198435887264623 suggests that there is a statistically significant difference between the sample mean and the population mean. This means that it is unlikely that the difference between the sample mean and the population mean is due to chance. The exact interpretation of this result would depend on the specific research question and hypothesis being tested.\n",
    "\n",
    "Sample mean of mean net profit: 108995329.64623013\n",
    "Sample standard deviation of mean net profit: 60449890.53309928\n",
    "population mean of mean net profit: 66560946.470664255\n",
    "t-test statistic: 2.2198435887264623"
   ]
  },
  {
   "cell_type": "markdown",
   "metadata": {},
   "source": [
    "The Seaborn graph that we created is a bar plot of the t-test statistic for a sample of mean net profit data.\n",
    "\n",
    "The purpose of the t-test is to determine whether the mean net profit of a group of directors is significantly different from the population mean. The t-test statistic represents the difference between the sample mean and the population mean, standardized by the sample standard deviation and the sample size.\n",
    "\n",
    "The bar plot visualizes the value of the t-test statistic. If the t-test statistic is greater than zero, it indicates that the sample mean is greater than the population mean. Conversely, if the t-test statistic is less than zero, it indicates that the sample mean is less than the population mean."
   ]
  },
  {
   "cell_type": "code",
   "execution_count": 8,
   "metadata": {},
   "outputs": [
    {
     "data": {
      "image/png": "[encoded data removed]",
      "text/plain": [
       "<Figure size 640x480 with 1 Axes>"
      ]
     },
     "metadata": {},
     "output_type": "display_data"
    }
   ],
   "source": [
    "data = pd.DataFrame({\n",
    "    'Sample mean of mean_net_profit': [sample_mean],\n",
    "    'Sample standard deviation of mean_net_profit': [sample_std],\n",
    "    'Sample variance of mean_net_profit'\n",
    "    'population mean of mean_net_profit': [population_mean],\n",
    "    't-test statistic': [t_test]\n",
    "})\n",
    "\n",
    "sns.set(font_scale = 1.0)\n",
    "\n",
    "ax = sns.lineplot(x = data.index, y ='t-test statistic', data = data)\n",
    "\n",
    "\n",
    "ax.set_xlabel('Sample Statistics')\n",
    "ax.set_ylabel('t-test Statistic')\n",
    "ax.set_title('T-test for Mean Net Profit')\n",
    "ax.axhline(y=t_test, linestyle='--', color='grey', alpha=0.5)\n",
    "\n",
    "plt.show()"
   ]
  },
  {
   "cell_type": "code",
   "execution_count": null,
   "metadata": {},
   "outputs": [],
   "source": [
    "# # Set up figure and axes\n",
    "# fig, ax = plt.subplots(figsize=(8,5)) # Plot the PDF as a line graph\n",
    "# # (x and y were created in previous plotting code)\n",
    "# ax.plot(x, y, color='darkblue', label=\"t-distribution PDF\") \n",
    "# # Plot a vertical line for our critical t-value\n",
    "# ax.axvline(t_test,color='green',linestyle='--',lw=4,label='critical t-value') \n",
    "# # Fill area under line graph where x value is creater than critical t\n",
    "# ax.fill_betweenx(y,x,t_crit,where=x > t_crit,color=\"gray\",label=\"rejection region\") ax.legend();"
   ]
  }
 ],
 "metadata": {
  "kernelspec": {
   "display_name": "learn-env",
   "language": "python",
   "name": "python3"
  },
  "language_info": {
   "codemirror_mode": {
    "name": "ipython",
    "version": 3
   },
   "file_extension": ".py",
   "mimetype": "text/x-python",
   "name": "python",
   "nbconvert_exporter": "python",
   "pygments_lexer": "ipython3",
   "version": "3.8.5"
  },
  "vscode": {
   "interpreter": {
    "hash": "8cf9575ba421614c4e6bce2b54f52663b7c4751b04582f66ce8d0eb2d7f68fc3"
   }
  }
 },
 "nbformat": 4,
 "nbformat_minor": 4
}
