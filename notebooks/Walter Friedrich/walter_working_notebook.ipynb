{
 "cells": [
  {
   "cell_type": "markdown",
   "metadata": {},
   "source": [
    "# Group Member 3's Working Notebook\n",
    "\n",
    "## Description\n",
    "\n",
    "Here's where I'd outline the goals of this specific notebook, and how they fit into the larger project goals"
   ]
  },
  {
   "cell_type": "markdown",
   "metadata": {},
   "source": [
    "Markdown Cell"
   ]
  },
  {
   "cell_type": "markdown",
   "metadata": {},
   "source": [
    "## Section"
   ]
  },
  {
   "cell_type": "code",
   "execution_count": 16,
   "metadata": {},
   "outputs": [
    {
     "ename": "SyntaxError",
     "evalue": "invalid syntax (2845039156.py, line 16)",
     "output_type": "error",
     "traceback": [
      "\u001b[1;36m  File \u001b[1;32m\"C:\\Users\\wfriedrich\\AppData\\Local\\Temp\\ipykernel_20812\\2845039156.py\"\u001b[1;36m, line \u001b[1;32m16\u001b[0m\n\u001b[1;33m    plt.xlabel('Vote Count')\u001b[0m\n\u001b[1;37m    ^\u001b[0m\n\u001b[1;31mSyntaxError\u001b[0m\u001b[1;31m:\u001b[0m invalid syntax\n"
     ]
    }
   ],
   "source": [
    "# Imports\n",
    "import pandas as pd\n",
    "import matplotlib.pyplot as plt\n",
    "\n",
    "# Read in the tmdb.movies.csv file\n",
    "df = pd.read_csv('../../data/tmdb.movies.csv')\n",
    "\n",
    "# Categorize vote_count\n",
    "vote_counts = pd.cut(df['vote_count'], bins=[0, 10, 100, 1000, 10000, 100000], labels=['0-9', '10-99', '100-999', '1000-9999', '10000+'])\n",
    "\n",
    "# Categorize vote_average\n",
    "vote_averages = pd.cut(df['vote_average'], bins=[0, 2, 4, 6, 8, 10], labels=['0-2', '2-4', '4-6', '6-8', '8-10'])\n",
    "\n",
    "# Create a bar chart of vote_count\n",
    "vote_counts.value_counts().sort_index().plot(kind='bar', rot=0)\n",
    "plt.xlabel('Vote Count')\n",
    "plt.ylabel('Number of Movies')\n",
    "plt.title('Distribution of Vote Counts')\n",
    "plt.show()\n",
    "\n",
    "# Create a bar chart of vote_average\n",
    "vote_averages.value_counts().sort_index().plot(kind='bar', rot=0)\n",
    "plt.xlabel('Vote Average')\n",
    "plt.ylabel('Number of Movies')\n",
    "plt.title('Distribution of Vote Averages')\n",
    "plt.show()\n",
    "\n",
    "#Create a bar chart of original_language \n",
    "plt.figure(figsize=(10, 5))\n",
    "df['original_language'].value_counts().plot(kind='bar', rot=0)\n",
    "plt.xlabel('Original Language')\n",
    "plt.ylabel('Number of Movies')\n",
    "plt.title('Distribution of Original Language')\n",
    "plt.show()"
   ]
  },
  {
   "cell_type": "markdown",
   "metadata": {},
   "source": [
    "Markdown cell"
   ]
  }
 ],
 "metadata": {
  "kernelspec": {
   "display_name": "Python 3 (ipykernel)",
   "language": "python",
   "name": "python3"
  },
  "language_info": {
   "codemirror_mode": {
    "name": "ipython",
    "version": 3
   },
   "file_extension": ".py",
   "mimetype": "text/x-python",
   "name": "python",
   "nbconvert_exporter": "python",
   "pygments_lexer": "ipython3",
   "version": "3.9.13"
  }
 },
 "nbformat": 4,
 "nbformat_minor": 4
}
