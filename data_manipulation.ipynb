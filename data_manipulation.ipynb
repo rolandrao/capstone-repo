{
 "cells": [
  {
   "cell_type": "code",
   "execution_count": 2,
   "metadata": {},
   "outputs": [],
   "source": [
    "import pandas as pd\n",
    "import sqlite3\n",
    "\n",
    "conn = sqlite3.connect('data/im.db')"
   ]
  },
  {
   "attachments": {},
   "cell_type": "markdown",
   "metadata": {},
   "source": [
    "Importing the BOM database, changing the foreign_gross column to be a numeric type"
   ]
  },
  {
   "cell_type": "code",
   "execution_count": 3,
   "metadata": {},
   "outputs": [
    {
     "name": "stdout",
     "output_type": "stream",
     "text": [
      "<class 'pandas.core.frame.DataFrame'>\n",
      "RangeIndex: 3387 entries, 0 to 3386\n",
      "Data columns (total 5 columns):\n",
      " #   Column          Non-Null Count  Dtype  \n",
      "---  ------          --------------  -----  \n",
      " 0   title           3387 non-null   object \n",
      " 1   studio          3382 non-null   object \n",
      " 2   domestic_gross  3359 non-null   float64\n",
      " 3   foreign_gross   2037 non-null   float64\n",
      " 4   year            3387 non-null   int64  \n",
      "dtypes: float64(2), int64(1), object(2)\n",
      "memory usage: 132.4+ KB\n"
     ]
    }
   ],
   "source": [
    "bom = pd.read_csv('data/bom.movie_gross.csv')\n",
    "bom['foreign_gross'] = bom.foreign_gross.str.replace('$','').str.replace(',','')\n",
    "bom['foreign_gross'] = bom.foreign_gross.astype(float)\n",
    "bom.info()"
   ]
  },
  {
   "attachments": {},
   "cell_type": "markdown",
   "metadata": {},
   "source": [
    "Importing the tmdb database, no changes necessary"
   ]
  },
  {
   "cell_type": "code",
   "execution_count": 4,
   "metadata": {},
   "outputs": [
    {
     "name": "stdout",
     "output_type": "stream",
     "text": [
      "<class 'pandas.core.frame.DataFrame'>\n",
      "RangeIndex: 26517 entries, 0 to 26516\n",
      "Data columns (total 10 columns):\n",
      " #   Column             Non-Null Count  Dtype  \n",
      "---  ------             --------------  -----  \n",
      " 0   id0                26517 non-null  int64  \n",
      " 1   genre_ids          26517 non-null  object \n",
      " 2   id                 26517 non-null  int64  \n",
      " 3   original_language  26517 non-null  object \n",
      " 4   original_title     26517 non-null  object \n",
      " 5   popularity         26517 non-null  float64\n",
      " 6   release_date       26517 non-null  object \n",
      " 7   title              26517 non-null  object \n",
      " 8   vote_average       26517 non-null  float64\n",
      " 9   vote_count         26517 non-null  int64  \n",
      "dtypes: float64(2), int64(3), object(5)\n",
      "memory usage: 2.0+ MB\n"
     ]
    }
   ],
   "source": [
    "tmdb = pd.read_csv('data/tmdb.movies.csv')\n",
    "tmdb.rename(columns={'Unnamed: 0': 'id0'}, inplace=True)\n",
    "tmdb.info()"
   ]
  },
  {
   "attachments": {},
   "cell_type": "markdown",
   "metadata": {},
   "source": [
    "importing The Numbers database and changing the production_budget, domestic_gross and worldwide_gross columns to remove the extraneous characters and change type to float. This will allow us to perform aggregate functions on the data in this column."
   ]
  },
  {
   "cell_type": "code",
   "execution_count": 13,
   "metadata": {},
   "outputs": [
    {
     "name": "stdout",
     "output_type": "stream",
     "text": [
      "<class 'pandas.core.frame.DataFrame'>\n",
      "RangeIndex: 5782 entries, 0 to 5781\n",
      "Data columns (total 6 columns):\n",
      " #   Column             Non-Null Count  Dtype  \n",
      "---  ------             --------------  -----  \n",
      " 0   id                 5782 non-null   int64  \n",
      " 1   release_date       5782 non-null   object \n",
      " 2   movie              5782 non-null   object \n",
      " 3   production_budget  5782 non-null   float64\n",
      " 4   domestic_gross     5782 non-null   float64\n",
      " 5   worldwide_gross    5782 non-null   float64\n",
      "dtypes: float64(3), int64(1), object(2)\n",
      "memory usage: 271.2+ KB\n"
     ]
    }
   ],
   "source": [
    "tn = pd.read_csv('data/tn.movie_budgets.csv')\n",
    "tn['production_budget'] = tn.production_budget.str.replace('$','').str.replace(',','').astype(float)\n",
    "tn['domestic_gross'] = tn.domestic_gross.str.replace('$','').str.replace(',','').astype(float)\n",
    "tn['worldwide_gross'] = tn.worldwide_gross.str.replace('$','').str.replace(',','').astype(float)\n",
    "tn.info()"
   ]
  },
  {
   "attachments": {},
   "cell_type": "markdown",
   "metadata": {},
   "source": [
    "Next we will be moving the data into the database contained in the im.db file. This will allow us to do all of our queries and aggregations in sql which is much easier than doing it in pandas."
   ]
  },
  {
   "cell_type": "code",
   "execution_count": null,
   "metadata": {},
   "outputs": [],
   "source": [
    "cursor = conn.cursor()\n",
    "cursor.execute(\"\"\"\n",
    "CREATE TABLE IF NOT EXISTS movie_budgets(\n",
    "    id numeric,\n",
    "    release_date text,\n",
    "    movie text,\n",
    "    production_budget numeric,\n",
    "    domestic_gross numeric,\n",
    "    worldwide_gross numeric\n",
    ")\n",
    "\"\"\")\n",
    "tn.to_sql('movie_budgets', if_exists='replace', connection=conn)"
   ]
  },
  {
   "cell_type": "code",
   "execution_count": null,
   "metadata": {},
   "outputs": [],
   "source": [
    "cursor = conn.cursor()\n",
    "cursor.execute(\"\"\"\n",
    "CREATE TABLE IF NOT EXISTS movie_ratings(\n",
    "    id0 numeric,\n",
    "    genre_ids text,\n",
    "    id numeric,\n",
    "    original_language text,\n",
    "    original_title text,\n",
    "    popularity float64,\n",
    "    release_date text,\n",
    "    title text,\n",
    "    vote_average text,\n",
    "    vote_count text\n",
    ")\n",
    "\"\"\")\n",
    "tmdb.to_sql('movie_ratings', if_exists='replace', connection=conn)"
   ]
  },
  {
   "cell_type": "code",
   "execution_count": null,
   "metadata": {},
   "outputs": [],
   "source": [
    "cursor = conn.cursor()\n",
    "cursor.execute(\"\"\"\n",
    "CREATE TABLE IF NOT EXISTS movie_gross(\n",
    "    title text,\n",
    "    studio text,\n",
    "    domestic_gross numeric,\n",
    "    foreign_gross numeric,\n",
    "    year numeric,\n",
    ")\n",
    "\"\"\")\n",
    "bom.to_sql('movie_gross', if_exists='replace', connection=conn)"
   ]
  }
 ],
 "metadata": {
  "kernelspec": {
   "display_name": "Python (learn-env)",
   "language": "python",
   "name": "learn-env"
  },
  "language_info": {
   "codemirror_mode": {
    "name": "ipython",
    "version": 3
   },
   "file_extension": ".py",
   "mimetype": "text/x-python",
   "name": "python",
   "nbconvert_exporter": "python",
   "pygments_lexer": "ipython3",
   "version": "3.8.5"
  },
  "orig_nbformat": 4,
  "vscode": {
   "interpreter": {
    "hash": "8cf9575ba421614c4e6bce2b54f52663b7c4751b04582f66ce8d0eb2d7f68fc3"
   }
  }
 },
 "nbformat": 4,
 "nbformat_minor": 2
}
