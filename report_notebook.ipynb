{
 "cells": [
  {
   "attachments": {},
   "cell_type": "markdown",
   "metadata": {},
   "source": [
    "# Investating and Improving Movie Production\n",
    "\n",
    "Movies have been being produced for 127 years, lending itself to a massive collection of data associated with those movies. It is in the best interest of Computing Vision to follow these guidelines in order to produce movies of a higher quality that produce higher net profit.\n",
    "\n",
    "Based on the data collected by `IMDB`, `The Numbers`, `The Movie Data Base`, and `Box Office Mojo`, we are able to determine that there are three major areas of interest that Computing Vision should focus on in order to maximize profits of their newly created content. The top three metrics are as follows:\n",
    "* Release Month\n",
    "* Director\n",
    "* Writer\n",
    "\n",
    "We will be diving into Release month and its impact on net profit. Before we can do that there are some standard modules that we will use to demonstrate the impact of these metrics."
   ]
  },
  {
   "cell_type": "code",
   "execution_count": 11,
   "metadata": {},
   "outputs": [],
   "source": [
    "import pandas as pd\n",
    "import sqlite3\n",
    "import numpy as np\n",
    "import matplotlib.pyplot as plt\n",
    "import seaborn as sns\n",
    "from scipy.stats import f_oneway\n",
    "\n",
    "conn = sqlite3.connect('data/im.db')"
   ]
  },
  {
   "attachments": {},
   "cell_type": "markdown",
   "metadata": {},
   "source": [
    "## Release Month\n",
    "If we aggregate data from the IMDB database and The Numbers database we can determine which months have the movies that average the most profit.\n",
    "\n",
    "### Step 1 - Pull the data from the database"
   ]
  },
  {
   "cell_type": "code",
   "execution_count": 8,
   "metadata": {},
   "outputs": [
    {
     "data": {
      "text/html": [
       "<div>\n",
       "<style scoped>\n",
       "    .dataframe tbody tr th:only-of-type {\n",
       "        vertical-align: middle;\n",
       "    }\n",
       "\n",
       "    .dataframe tbody tr th {\n",
       "        vertical-align: top;\n",
       "    }\n",
       "\n",
       "    .dataframe thead th {\n",
       "        text-align: right;\n",
       "    }\n",
       "</style>\n",
       "<table border=\"1\" class=\"dataframe\">\n",
       "  <thead>\n",
       "    <tr style=\"text-align: right;\">\n",
       "      <th></th>\n",
       "      <th>month</th>\n",
       "      <th>mean_net_profit</th>\n",
       "    </tr>\n",
       "  </thead>\n",
       "  <tbody>\n",
       "    <tr>\n",
       "      <th>0</th>\n",
       "      <td>May</td>\n",
       "      <td>1.151328e+08</td>\n",
       "    </tr>\n",
       "    <tr>\n",
       "      <th>1</th>\n",
       "      <td>Jun</td>\n",
       "      <td>9.942391e+07</td>\n",
       "    </tr>\n",
       "    <tr>\n",
       "      <th>2</th>\n",
       "      <td>Jul</td>\n",
       "      <td>9.841746e+07</td>\n",
       "    </tr>\n",
       "    <tr>\n",
       "      <th>3</th>\n",
       "      <td>Nov</td>\n",
       "      <td>9.314157e+07</td>\n",
       "    </tr>\n",
       "    <tr>\n",
       "      <th>4</th>\n",
       "      <td>Dec</td>\n",
       "      <td>6.844157e+07</td>\n",
       "    </tr>\n",
       "    <tr>\n",
       "      <th>5</th>\n",
       "      <td>Mar</td>\n",
       "      <td>4.985129e+07</td>\n",
       "    </tr>\n",
       "    <tr>\n",
       "      <th>6</th>\n",
       "      <td>Feb</td>\n",
       "      <td>4.349811e+07</td>\n",
       "    </tr>\n",
       "    <tr>\n",
       "      <th>7</th>\n",
       "      <td>Apr</td>\n",
       "      <td>3.611743e+07</td>\n",
       "    </tr>\n",
       "    <tr>\n",
       "      <th>8</th>\n",
       "      <td>Aug</td>\n",
       "      <td>3.542232e+07</td>\n",
       "    </tr>\n",
       "    <tr>\n",
       "      <th>9</th>\n",
       "      <td>Oct</td>\n",
       "      <td>2.907190e+07</td>\n",
       "    </tr>\n",
       "    <tr>\n",
       "      <th>10</th>\n",
       "      <td>Jan</td>\n",
       "      <td>2.572033e+07</td>\n",
       "    </tr>\n",
       "    <tr>\n",
       "      <th>11</th>\n",
       "      <td>Sep</td>\n",
       "      <td>2.488078e+07</td>\n",
       "    </tr>\n",
       "  </tbody>\n",
       "</table>\n",
       "</div>"
      ],
      "text/plain": [
       "   month  mean_net_profit\n",
       "0    May     1.151328e+08\n",
       "1    Jun     9.942391e+07\n",
       "2    Jul     9.841746e+07\n",
       "3    Nov     9.314157e+07\n",
       "4    Dec     6.844157e+07\n",
       "5    Mar     4.985129e+07\n",
       "6    Feb     4.349811e+07\n",
       "7    Apr     3.611743e+07\n",
       "8    Aug     3.542232e+07\n",
       "9    Oct     2.907190e+07\n",
       "10   Jan     2.572033e+07\n",
       "11   Sep     2.488078e+07"
      ]
     },
     "execution_count": 8,
     "metadata": {},
     "output_type": "execute_result"
    }
   ],
   "source": [
    "month_agg_data = pd.read_sql(\"\"\"\n",
    "SELECT SUBSTR(release_date, 0, 4) as month, AVG(worldwide_gross - production_budget) as mean_net_profit\n",
    "FROM movie_budgets\n",
    "GROUP BY month\n",
    "ORDER BY mean_net_profit DESC;\n",
    "\"\"\", conn)\n",
    "month_agg_data"
   ]
  },
  {
   "attachments": {},
   "cell_type": "markdown",
   "metadata": {},
   "source": [
    "### Step 2 - Displaying the Aggregated Data\n",
    "From this we can see that releasing movies during the summer months will generally see a higher profit than releasing movies during the back to school season or January after Christmas break. We can show this with a bar plot indicating the relative average net profit."
   ]
  },
  {
   "cell_type": "code",
   "execution_count": 9,
   "metadata": {},
   "outputs": [
    {
     "data": {
      "text/plain": [
       "<AxesSubplot:xlabel='month'>"
      ]
     },
     "execution_count": 9,
     "metadata": {},
     "output_type": "execute_result"
    },
    {
     "data": {
      "image/png": "[encoded data removed]",
      "text/plain": [
       "<Figure size 432x288 with 1 Axes>"
      ]
     },
     "metadata": {
      "needs_background": "light"
     },
     "output_type": "display_data"
    }
   ],
   "source": [
    "month_agg_data.plot.bar(x='month', y = 'mean_net_profit')"
   ]
  },
  {
   "attachments": {},
   "cell_type": "markdown",
   "metadata": {},
   "source": [
    "### Step 3 Generating Non-Aggregated Data\n",
    "In order to further investigate whether or not the samples we've gather here actually represent a fluctuation in the average net profit for the entire population, we must conduct an ANOVA test in order to reject the null hypothesis that the population mean for `May` is in fact significantly different than the population mean for `September`. In order to perform this test we need non-aggregated data for each of the 12 months."
   ]
  },
  {
   "cell_type": "code",
   "execution_count": 10,
   "metadata": {},
   "outputs": [
    {
     "data": {
      "text/html": [
       "<div>\n",
       "<style scoped>\n",
       "    .dataframe tbody tr th:only-of-type {\n",
       "        vertical-align: middle;\n",
       "    }\n",
       "\n",
       "    .dataframe tbody tr th {\n",
       "        vertical-align: top;\n",
       "    }\n",
       "\n",
       "    .dataframe thead th {\n",
       "        text-align: right;\n",
       "    }\n",
       "</style>\n",
       "<table border=\"1\" class=\"dataframe\">\n",
       "  <thead>\n",
       "    <tr style=\"text-align: right;\">\n",
       "      <th></th>\n",
       "      <th>month</th>\n",
       "      <th>net_profit</th>\n",
       "    </tr>\n",
       "  </thead>\n",
       "  <tbody>\n",
       "    <tr>\n",
       "      <th>0</th>\n",
       "      <td>Dec</td>\n",
       "      <td>2351345279</td>\n",
       "    </tr>\n",
       "    <tr>\n",
       "      <th>1</th>\n",
       "      <td>May</td>\n",
       "      <td>635063875</td>\n",
       "    </tr>\n",
       "    <tr>\n",
       "      <th>2</th>\n",
       "      <td>Jun</td>\n",
       "      <td>-200237650</td>\n",
       "    </tr>\n",
       "    <tr>\n",
       "      <th>3</th>\n",
       "      <td>May</td>\n",
       "      <td>1072413963</td>\n",
       "    </tr>\n",
       "    <tr>\n",
       "      <th>4</th>\n",
       "      <td>Dec</td>\n",
       "      <td>999721747</td>\n",
       "    </tr>\n",
       "    <tr>\n",
       "      <th>...</th>\n",
       "      <td>...</td>\n",
       "      <td>...</td>\n",
       "    </tr>\n",
       "    <tr>\n",
       "      <th>5777</th>\n",
       "      <td>Dec</td>\n",
       "      <td>-7000</td>\n",
       "    </tr>\n",
       "    <tr>\n",
       "      <th>5778</th>\n",
       "      <td>Apr</td>\n",
       "      <td>234495</td>\n",
       "    </tr>\n",
       "    <tr>\n",
       "      <th>5779</th>\n",
       "      <td>Jul</td>\n",
       "      <td>-3662</td>\n",
       "    </tr>\n",
       "    <tr>\n",
       "      <th>5780</th>\n",
       "      <td>Sep</td>\n",
       "      <td>-1400</td>\n",
       "    </tr>\n",
       "    <tr>\n",
       "      <th>5781</th>\n",
       "      <td>Aug</td>\n",
       "      <td>179941</td>\n",
       "    </tr>\n",
       "  </tbody>\n",
       "</table>\n",
       "<p>5782 rows × 2 columns</p>\n",
       "</div>"
      ],
      "text/plain": [
       "     month  net_profit\n",
       "0      Dec  2351345279\n",
       "1      May   635063875\n",
       "2      Jun  -200237650\n",
       "3      May  1072413963\n",
       "4      Dec   999721747\n",
       "...    ...         ...\n",
       "5777   Dec       -7000\n",
       "5778   Apr      234495\n",
       "5779   Jul       -3662\n",
       "5780   Sep       -1400\n",
       "5781   Aug      179941\n",
       "\n",
       "[5782 rows x 2 columns]"
      ]
     },
     "execution_count": 10,
     "metadata": {},
     "output_type": "execute_result"
    }
   ],
   "source": [
    "month_data = pd.read_sql(\"\"\"\n",
    "SELECT SUBSTR(release_date, 0, 4) as month, (worldwide_gross - production_budget) as net_profit\n",
    "FROM movie_budgets;\n",
    "\"\"\", conn)\n",
    "month_data"
   ]
  },
  {
   "attachments": {},
   "cell_type": "markdown",
   "metadata": {},
   "source": [
    "With this data we can use the scipy module to perform an ANOVA test that shows whether or not there is a significant difference between the population means of the categorical variables."
   ]
  },
  {
   "cell_type": "code",
   "execution_count": 12,
   "metadata": {},
   "outputs": [
    {
     "data": {
      "text/plain": [
       "F_onewayResult(statistic=24.453383228456943, pvalue=4.995036106067499e-50)"
      ]
     },
     "execution_count": 12,
     "metadata": {},
     "output_type": "execute_result"
    }
   ],
   "source": [
    "jan = month_data[month_data.month == 'Jan'].net_profit\n",
    "feb = month_data[month_data.month == 'Feb'].net_profit\n",
    "mar = month_data[month_data.month == 'Mar'].net_profit\n",
    "apr = month_data[month_data.month == 'Apr'].net_profit\n",
    "may = month_data[month_data.month == 'May'].net_profit\n",
    "jun = month_data[month_data.month == 'Jun'].net_profit\n",
    "jul = month_data[month_data.month == 'Jul'].net_profit\n",
    "aug = month_data[month_data.month == 'Aug'].net_profit\n",
    "sep = month_data[month_data.month == 'Sep'].net_profit\n",
    "oct = month_data[month_data.month == 'Oct'].net_profit\n",
    "nov = month_data[month_data.month == 'Nov'].net_profit\n",
    "dec = month_data[month_data.month == 'Dec'].net_profit\n",
    "\n",
    "f_oneway(jan, feb, mar, apr, may, jun, jul, aug, sep, oct, nov, dec)"
   ]
  },
  {
   "attachments": {},
   "cell_type": "markdown",
   "metadata": {},
   "source": [
    "With a miniscule p value, we can with confidence rejec the null hypothesis and conclude that there is in fact a significant difference between the population means of the different groups, indicating that there is merit to releasing movies during the summer months as opposed to months such as September or January."
   ]
  },
  {
   "attachments": {},
   "cell_type": "markdown",
   "metadata": {},
   "source": [
    "## Director"
   ]
  }
 ],
 "metadata": {
  "kernelspec": {
   "display_name": "learn-env",
   "language": "python",
   "name": "python3"
  },
  "language_info": {
   "codemirror_mode": {
    "name": "ipython",
    "version": 3
   },
   "file_extension": ".py",
   "mimetype": "text/x-python",
   "name": "python",
   "nbconvert_exporter": "python",
   "pygments_lexer": "ipython3",
   "version": "3.8.5"
  },
  "orig_nbformat": 4,
  "vscode": {
   "interpreter": {
    "hash": "8cf9575ba421614c4e6bce2b54f52663b7c4751b04582f66ce8d0eb2d7f68fc3"
   }
  }
 },
 "nbformat": 4,
 "nbformat_minor": 2
}
