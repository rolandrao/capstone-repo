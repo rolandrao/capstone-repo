{
 "cells": [
  {
   "cell_type": "markdown",
   "metadata": {},
   "source": [
    "# Investating and Improving Movie Production\n",
    "\n",
    "Movies have been being produced for 127 years, lending itself to a massive collection of data associated with those movies. It is in the best interest of Computing Vision to follow these guidelines in order to produce movies of a higher quality that produce higher net profit.\n",
    "\n",
    "Based on the data collected by `IMDB`, `The Numbers`, `The Movie Data Base`, and `Box Office Mojo`, we are able to determine that there are three major areas of interest that Computing Vision should focus on in order to maximize profits of their newly created content. The top three metrics are as follows:\n",
    "* Release Month\n",
    "* Director\n",
    "* Writer\n",
    "\n",
    "We will be diving into Release month and its impact on net profit. Before we can do that there are some standard modules that we will use to demonstrate the impact of these metrics."
   ]
  },
  {
   "cell_type": "code",
   "execution_count": 22,
   "metadata": {},
   "outputs": [],
   "source": [
    "import pandas as pd\n",
    "import sqlite3\n",
    "import numpy as np\n",
    "import matplotlib.pyplot as plt\n",
    "import seaborn as sns\n",
    "from scipy.stats import f_oneway\n",
    "from scipy.stats import ttest_1samp\n",
    "import calendar\n",
    "\n",
    "conn = sqlite3.connect('data/im.db')"
   ]
  },
  {
   "cell_type": "markdown",
   "metadata": {},
   "source": [
    "## Release Month\n",
    "If we aggregate data from the IMDB database and The Numbers database we can determine which months have the movies that average the most profit.\n",
    "\n",
    "### Step 1 - Pull the data from the database"
   ]
  },
  {
   "cell_type": "code",
   "execution_count": 23,
   "metadata": {},
   "outputs": [
    {
     "data": {
      "text/html": [
       "<div>\n",
       "<style scoped>\n",
       "    .dataframe tbody tr th:only-of-type {\n",
       "        vertical-align: middle;\n",
       "    }\n",
       "\n",
       "    .dataframe tbody tr th {\n",
       "        vertical-align: top;\n",
       "    }\n",
       "\n",
       "    .dataframe thead th {\n",
       "        text-align: right;\n",
       "    }\n",
       "</style>\n",
       "<table border=\"1\" class=\"dataframe\">\n",
       "  <thead>\n",
       "    <tr style=\"text-align: right;\">\n",
       "      <th></th>\n",
       "      <th>month</th>\n",
       "      <th>mean_net_profit</th>\n",
       "    </tr>\n",
       "  </thead>\n",
       "  <tbody>\n",
       "    <tr>\n",
       "      <th>0</th>\n",
       "      <td>May</td>\n",
       "      <td>1.151328e+08</td>\n",
       "    </tr>\n",
       "    <tr>\n",
       "      <th>1</th>\n",
       "      <td>Jun</td>\n",
       "      <td>9.942391e+07</td>\n",
       "    </tr>\n",
       "    <tr>\n",
       "      <th>2</th>\n",
       "      <td>Jul</td>\n",
       "      <td>9.841746e+07</td>\n",
       "    </tr>\n",
       "    <tr>\n",
       "      <th>3</th>\n",
       "      <td>Nov</td>\n",
       "      <td>9.314157e+07</td>\n",
       "    </tr>\n",
       "    <tr>\n",
       "      <th>4</th>\n",
       "      <td>Dec</td>\n",
       "      <td>6.844157e+07</td>\n",
       "    </tr>\n",
       "    <tr>\n",
       "      <th>5</th>\n",
       "      <td>Mar</td>\n",
       "      <td>4.985129e+07</td>\n",
       "    </tr>\n",
       "    <tr>\n",
       "      <th>6</th>\n",
       "      <td>Feb</td>\n",
       "      <td>4.349811e+07</td>\n",
       "    </tr>\n",
       "    <tr>\n",
       "      <th>7</th>\n",
       "      <td>Apr</td>\n",
       "      <td>3.611743e+07</td>\n",
       "    </tr>\n",
       "    <tr>\n",
       "      <th>8</th>\n",
       "      <td>Aug</td>\n",
       "      <td>3.542232e+07</td>\n",
       "    </tr>\n",
       "    <tr>\n",
       "      <th>9</th>\n",
       "      <td>Oct</td>\n",
       "      <td>2.907190e+07</td>\n",
       "    </tr>\n",
       "    <tr>\n",
       "      <th>10</th>\n",
       "      <td>Jan</td>\n",
       "      <td>2.572033e+07</td>\n",
       "    </tr>\n",
       "    <tr>\n",
       "      <th>11</th>\n",
       "      <td>Sep</td>\n",
       "      <td>2.488078e+07</td>\n",
       "    </tr>\n",
       "  </tbody>\n",
       "</table>\n",
       "</div>"
      ],
      "text/plain": [
       "   month  mean_net_profit\n",
       "0    May     1.151328e+08\n",
       "1    Jun     9.942391e+07\n",
       "2    Jul     9.841746e+07\n",
       "3    Nov     9.314157e+07\n",
       "4    Dec     6.844157e+07\n",
       "5    Mar     4.985129e+07\n",
       "6    Feb     4.349811e+07\n",
       "7    Apr     3.611743e+07\n",
       "8    Aug     3.542232e+07\n",
       "9    Oct     2.907190e+07\n",
       "10   Jan     2.572033e+07\n",
       "11   Sep     2.488078e+07"
      ]
     },
     "execution_count": 23,
     "metadata": {},
     "output_type": "execute_result"
    }
   ],
   "source": [
    "month_agg_data = pd.read_sql(\"\"\"\n",
    "SELECT SUBSTR(release_date, 0, 4) as month, AVG(worldwide_gross - production_budget) as mean_net_profit\n",
    "FROM movie_budgets\n",
    "GROUP BY month\n",
    "ORDER BY mean_net_profit DESC;\n",
    "\"\"\", conn)\n",
    "month_agg_data"
   ]
  },
  {
   "cell_type": "markdown",
   "metadata": {},
   "source": [
    "### Step 2 - Displaying the Aggregated Data\n",
    "From this we can see that releasing movies during the summer months will generally see a higher profit than releasing movies during the back to school season or January after Christmas break. We can show this with a bar plot indicating the relative average net profit."
   ]
  },
  {
   "cell_type": "code",
   "execution_count": 24,
   "metadata": {},
   "outputs": [
    {
     "data": {
      "image/png": "[encoded data removed]",
      "text/plain": [
       "<Figure size 648x432 with 1 Axes>"
      ]
     },
     "metadata": {},
     "output_type": "display_data"
    }
   ],
   "source": [
    "months = [\"Jan\", \"Feb\", \"Mar\", \"Apr\", \"May\", \"Jun\", \"Jul\", \"Aug\", \"Sep\", \"Oct\", \"Nov\", \"Dec\"]\n",
    "month_agg_data['month'] = pd.Categorical(month_agg_data['month'], categories=months, ordered=True)\n",
    "\n",
    "sns.set(rc={\n",
    "    'figure.figsize':(9,6)\n",
    "    })\n",
    "sns.set(font_scale=1.5)\n",
    "barplot = sns.barplot(\n",
    "    data = month_agg_data, \n",
    "    x='month', \n",
    "    y='mean_net_profit'\n",
    "    )\n",
    "barplot.set(\n",
    "    xlabel='Months', \n",
    "    ylabel='Average Net Profit (Hundred Million USD)', \n",
    "    title='Average Net Profit by Month'\n",
    "    );"
   ]
  },
  {
   "cell_type": "markdown",
   "metadata": {},
   "source": [
    "### Step 3 Generating Non-Aggregated Data\n",
    "In order to further investigate whether or not the samples we've gather here actually represent a fluctuation in the average net profit for the entire population, we must conduct an ANOVA test in order to reject the null hypothesis that the population mean for `May` is in fact significantly different than the population mean for `September`. In order to perform this test we need non-aggregated data for each of the 12 months."
   ]
  },
  {
   "cell_type": "code",
   "execution_count": 25,
   "metadata": {},
   "outputs": [
    {
     "data": {
      "text/html": [
       "<div>\n",
       "<style scoped>\n",
       "    .dataframe tbody tr th:only-of-type {\n",
       "        vertical-align: middle;\n",
       "    }\n",
       "\n",
       "    .dataframe tbody tr th {\n",
       "        vertical-align: top;\n",
       "    }\n",
       "\n",
       "    .dataframe thead th {\n",
       "        text-align: right;\n",
       "    }\n",
       "</style>\n",
       "<table border=\"1\" class=\"dataframe\">\n",
       "  <thead>\n",
       "    <tr style=\"text-align: right;\">\n",
       "      <th></th>\n",
       "      <th>month</th>\n",
       "      <th>net_profit</th>\n",
       "    </tr>\n",
       "  </thead>\n",
       "  <tbody>\n",
       "    <tr>\n",
       "      <th>0</th>\n",
       "      <td>Dec</td>\n",
       "      <td>2351345279</td>\n",
       "    </tr>\n",
       "    <tr>\n",
       "      <th>1</th>\n",
       "      <td>May</td>\n",
       "      <td>635063875</td>\n",
       "    </tr>\n",
       "    <tr>\n",
       "      <th>2</th>\n",
       "      <td>Jun</td>\n",
       "      <td>-200237650</td>\n",
       "    </tr>\n",
       "    <tr>\n",
       "      <th>3</th>\n",
       "      <td>May</td>\n",
       "      <td>1072413963</td>\n",
       "    </tr>\n",
       "    <tr>\n",
       "      <th>4</th>\n",
       "      <td>Dec</td>\n",
       "      <td>999721747</td>\n",
       "    </tr>\n",
       "    <tr>\n",
       "      <th>...</th>\n",
       "      <td>...</td>\n",
       "      <td>...</td>\n",
       "    </tr>\n",
       "    <tr>\n",
       "      <th>5777</th>\n",
       "      <td>Dec</td>\n",
       "      <td>-7000</td>\n",
       "    </tr>\n",
       "    <tr>\n",
       "      <th>5778</th>\n",
       "      <td>Apr</td>\n",
       "      <td>234495</td>\n",
       "    </tr>\n",
       "    <tr>\n",
       "      <th>5779</th>\n",
       "      <td>Jul</td>\n",
       "      <td>-3662</td>\n",
       "    </tr>\n",
       "    <tr>\n",
       "      <th>5780</th>\n",
       "      <td>Sep</td>\n",
       "      <td>-1400</td>\n",
       "    </tr>\n",
       "    <tr>\n",
       "      <th>5781</th>\n",
       "      <td>Aug</td>\n",
       "      <td>179941</td>\n",
       "    </tr>\n",
       "  </tbody>\n",
       "</table>\n",
       "<p>5782 rows × 2 columns</p>\n",
       "</div>"
      ],
      "text/plain": [
       "     month  net_profit\n",
       "0      Dec  2351345279\n",
       "1      May   635063875\n",
       "2      Jun  -200237650\n",
       "3      May  1072413963\n",
       "4      Dec   999721747\n",
       "...    ...         ...\n",
       "5777   Dec       -7000\n",
       "5778   Apr      234495\n",
       "5779   Jul       -3662\n",
       "5780   Sep       -1400\n",
       "5781   Aug      179941\n",
       "\n",
       "[5782 rows x 2 columns]"
      ]
     },
     "execution_count": 25,
     "metadata": {},
     "output_type": "execute_result"
    }
   ],
   "source": [
    "month_data = pd.read_sql(\"\"\"\n",
    "SELECT SUBSTR(release_date, 0, 4) as month, (worldwide_gross - production_budget) as net_profit\n",
    "FROM movie_budgets;\n",
    "\"\"\", conn)\n",
    "month_data"
   ]
  },
  {
   "cell_type": "markdown",
   "metadata": {},
   "source": [
    "With this data we can use the scipy module to perform an ANOVA test that shows whether or not there is a significant difference between the population means of the categorical variables."
   ]
  },
  {
   "cell_type": "code",
   "execution_count": 26,
   "metadata": {},
   "outputs": [
    {
     "data": {
      "text/plain": [
       "F_onewayResult(statistic=24.453383228456943, pvalue=4.995036106067499e-50)"
      ]
     },
     "execution_count": 26,
     "metadata": {},
     "output_type": "execute_result"
    }
   ],
   "source": [
    "#include ttest_1samp with may/sep and pop mean\n",
    "\n",
    "jan = month_data[month_data.month == 'Jan'].net_profit\n",
    "feb = month_data[month_data.month == 'Feb'].net_profit\n",
    "mar = month_data[month_data.month == 'Mar'].net_profit\n",
    "apr = month_data[month_data.month == 'Apr'].net_profit\n",
    "may = month_data[month_data.month == 'May'].net_profit\n",
    "jun = month_data[month_data.month == 'Jun'].net_profit\n",
    "jul = month_data[month_data.month == 'Jul'].net_profit\n",
    "aug = month_data[month_data.month == 'Aug'].net_profit\n",
    "sep = month_data[month_data.month == 'Sep'].net_profit\n",
    "oct = month_data[month_data.month == 'Oct'].net_profit\n",
    "nov = month_data[month_data.month == 'Nov'].net_profit\n",
    "dec = month_data[month_data.month == 'Dec'].net_profit\n",
    "\n",
    "f_oneway(jan, feb, mar, apr, may, jun, jul, aug, sep, oct, nov, dec)"
   ]
  },
  {
   "cell_type": "code",
   "execution_count": 35,
   "metadata": {},
   "outputs": [
    {
     "data": {
      "text/plain": [
       "Ttest_1sampResult(statistic=5.3698748782509265, pvalue=1.32901576115874e-07)"
      ]
     },
     "execution_count": 35,
     "metadata": {},
     "output_type": "execute_result"
    }
   ],
   "source": [
    "ttest_1samp(may, month_data.net_profit.mean())"
   ]
  },
  {
   "attachments": {},
   "cell_type": "markdown",
   "metadata": {},
   "source": [
    "With a miniscule p value, we can with confidence reject the null hypothesis and conclude that there is in fact a significant difference between the population means of the different groups, indicating that there is merit to releasing movies during the summer months as opposed to months such as September or January. With an additional t_test between the month of May and the population mean we can also determine with certainty that there is a significant difference between the month of May and the rest of the months."
   ]
  },
  {
   "cell_type": "markdown",
   "metadata": {},
   "source": [
    "## Director"
   ]
  },
  {
   "cell_type": "markdown",
   "metadata": {},
   "source": [
    "In this notebook we are testing to find a correlation between director and mean_net_profit This code was worked on by Walter Friedrich and Aidan Ryan"
   ]
  },
  {
   "cell_type": "markdown",
   "metadata": {},
   "source": [
    "Imports and SQL data connection"
   ]
  },
  {
   "cell_type": "markdown",
   "metadata": {},
   "source": [
    "Aggregated SQL query\n",
    "\n",
    "Top 10 directors with highest mean_net_profit with num_movies greater than 5\n",
    "Ordered by highest mean_net_profit descending"
   ]
  },
  {
   "cell_type": "code",
   "execution_count": 28,
   "metadata": {},
   "outputs": [
    {
     "data": {
      "text/html": [
       "<div>\n",
       "<style scoped>\n",
       "    .dataframe tbody tr th:only-of-type {\n",
       "        vertical-align: middle;\n",
       "    }\n",
       "\n",
       "    .dataframe tbody tr th {\n",
       "        vertical-align: top;\n",
       "    }\n",
       "\n",
       "    .dataframe thead th {\n",
       "        text-align: right;\n",
       "    }\n",
       "</style>\n",
       "<table border=\"1\" class=\"dataframe\">\n",
       "  <thead>\n",
       "    <tr style=\"text-align: right;\">\n",
       "      <th></th>\n",
       "      <th>director</th>\n",
       "      <th>mean_net_profit</th>\n",
       "      <th>num_movies</th>\n",
       "    </tr>\n",
       "  </thead>\n",
       "  <tbody>\n",
       "    <tr>\n",
       "      <th>0</th>\n",
       "      <td>Tim Burton</td>\n",
       "      <td>1.908611e+08</td>\n",
       "      <td>6</td>\n",
       "    </tr>\n",
       "    <tr>\n",
       "      <th>1</th>\n",
       "      <td>Ridley Scott</td>\n",
       "      <td>1.769673e+08</td>\n",
       "      <td>7</td>\n",
       "    </tr>\n",
       "    <tr>\n",
       "      <th>2</th>\n",
       "      <td>Steven Spielberg</td>\n",
       "      <td>1.647550e+08</td>\n",
       "      <td>8</td>\n",
       "    </tr>\n",
       "    <tr>\n",
       "      <th>3</th>\n",
       "      <td>Jon M. Chu</td>\n",
       "      <td>1.502429e+08</td>\n",
       "      <td>6</td>\n",
       "    </tr>\n",
       "    <tr>\n",
       "      <th>4</th>\n",
       "      <td>Clint Eastwood</td>\n",
       "      <td>1.379160e+08</td>\n",
       "      <td>6</td>\n",
       "    </tr>\n",
       "    <tr>\n",
       "      <th>5</th>\n",
       "      <td>Jaume Collet-Serra</td>\n",
       "      <td>7.547862e+07</td>\n",
       "      <td>6</td>\n",
       "    </tr>\n",
       "    <tr>\n",
       "      <th>6</th>\n",
       "      <td>Denis Villeneuve</td>\n",
       "      <td>5.732786e+07</td>\n",
       "      <td>6</td>\n",
       "    </tr>\n",
       "    <tr>\n",
       "      <th>7</th>\n",
       "      <td>Tim Story</td>\n",
       "      <td>4.845786e+07</td>\n",
       "      <td>9</td>\n",
       "    </tr>\n",
       "    <tr>\n",
       "      <th>8</th>\n",
       "      <td>Steven Soderbergh</td>\n",
       "      <td>4.558173e+07</td>\n",
       "      <td>7</td>\n",
       "    </tr>\n",
       "    <tr>\n",
       "      <th>9</th>\n",
       "      <td>David Gordon Green</td>\n",
       "      <td>4.236483e+07</td>\n",
       "      <td>8</td>\n",
       "    </tr>\n",
       "  </tbody>\n",
       "</table>\n",
       "</div>"
      ],
      "text/plain": [
       "             director  mean_net_profit  num_movies\n",
       "0          Tim Burton     1.908611e+08           6\n",
       "1        Ridley Scott     1.769673e+08           7\n",
       "2    Steven Spielberg     1.647550e+08           8\n",
       "3          Jon M. Chu     1.502429e+08           6\n",
       "4      Clint Eastwood     1.379160e+08           6\n",
       "5  Jaume Collet-Serra     7.547862e+07           6\n",
       "6    Denis Villeneuve     5.732786e+07           6\n",
       "7           Tim Story     4.845786e+07           9\n",
       "8   Steven Soderbergh     4.558173e+07           7\n",
       "9  David Gordon Green     4.236483e+07           8"
      ]
     },
     "execution_count": 28,
     "metadata": {},
     "output_type": "execute_result"
    }
   ],
   "source": [
    "director_AGG = pd.read_sql(\"\"\"\n",
    "SELECT pe.primary_name as director, AVG(mob.worldwide_gross - mob.production_budget) as mean_net_profit, COUNT(pe.primary_name) as num_movies\n",
    "FROM movie_basics mb, principals pr, persons pe, movie_budgets mob\n",
    "WHERE   mb.movie_id = pr.movie_id \n",
    "        AND pr.person_id = pe.person_id\n",
    "        AND mb.primary_title = mob.movie\n",
    "        AND pr.category = 'director'\n",
    "GROUP BY pe.primary_name\n",
    "HAVING num_movies > 5\n",
    "ORDER BY mean_net_profit DESC\n",
    "LIMIT 10\n",
    ";\n",
    "\"\"\", conn)\n",
    "director_AGG"
   ]
  },
  {
   "cell_type": "markdown",
   "metadata": {},
   "source": [
    "We're using matplotlib to create a bar graph and visualize our sample population data for better insights"
   ]
  },
  {
   "cell_type": "code",
   "execution_count": 47,
   "metadata": {},
   "outputs": [
    {
     "data": {
      "image/png": "[encoded data removed]",
      "text/plain": [
       "<Figure size 864x576 with 1 Axes>"
      ]
     },
     "metadata": {},
     "output_type": "display_data"
    }
   ],
   "source": [
    "# mention multiple directors per movie\n",
    "# mention directors that are available\n",
    "sns.set(rc={\n",
    "    'figure.figsize':(12,8)\n",
    "    })\n",
    "sns.set(font_scale=1.3)\n",
    "director_plot = sns.barplot(data=director_AGG, x='director', y='mean_net_profit')\n",
    "director_plot.set(xlabel='Director', ylabel='Average Net Profit (Hundred Million USD)')\n",
    "director_plot.set_xticklabels(labels=director_AGG.director, rotation=45);"
   ]
  },
  {
   "cell_type": "markdown",
   "metadata": {},
   "source": [
    "Disaggregated SQL query 2 categories\n",
    "Director\n",
    "net_profit"
   ]
  },
  {
   "cell_type": "code",
   "execution_count": 30,
   "metadata": {},
   "outputs": [
    {
     "data": {
      "text/html": [
       "<div>\n",
       "<style scoped>\n",
       "    .dataframe tbody tr th:only-of-type {\n",
       "        vertical-align: middle;\n",
       "    }\n",
       "\n",
       "    .dataframe tbody tr th {\n",
       "        vertical-align: top;\n",
       "    }\n",
       "\n",
       "    .dataframe thead th {\n",
       "        text-align: right;\n",
       "    }\n",
       "</style>\n",
       "<table border=\"1\" class=\"dataframe\">\n",
       "  <thead>\n",
       "    <tr style=\"text-align: right;\">\n",
       "      <th></th>\n",
       "      <th>director</th>\n",
       "      <th>net_profit</th>\n",
       "    </tr>\n",
       "  </thead>\n",
       "  <tbody>\n",
       "    <tr>\n",
       "      <th>0</th>\n",
       "      <td>Ethan Coen</td>\n",
       "      <td>42160680</td>\n",
       "    </tr>\n",
       "    <tr>\n",
       "      <th>1</th>\n",
       "      <td>Joel Coen</td>\n",
       "      <td>42160680</td>\n",
       "    </tr>\n",
       "    <tr>\n",
       "      <th>2</th>\n",
       "      <td>Anbarasan</td>\n",
       "      <td>-700000</td>\n",
       "    </tr>\n",
       "    <tr>\n",
       "      <th>3</th>\n",
       "      <td>Dexter Fletcher</td>\n",
       "      <td>22060480</td>\n",
       "    </tr>\n",
       "    <tr>\n",
       "      <th>4</th>\n",
       "      <td>Gary Ross</td>\n",
       "      <td>-26762748</td>\n",
       "    </tr>\n",
       "    <tr>\n",
       "      <th>...</th>\n",
       "      <td>...</td>\n",
       "      <td>...</td>\n",
       "    </tr>\n",
       "    <tr>\n",
       "      <th>3864</th>\n",
       "      <td>Joanna Wierig</td>\n",
       "      <td>-13627243</td>\n",
       "    </tr>\n",
       "    <tr>\n",
       "      <th>3865</th>\n",
       "      <td>Zefei Liu</td>\n",
       "      <td>45080579</td>\n",
       "    </tr>\n",
       "    <tr>\n",
       "      <th>3866</th>\n",
       "      <td>Chase Pottinger</td>\n",
       "      <td>45080579</td>\n",
       "    </tr>\n",
       "    <tr>\n",
       "      <th>3867</th>\n",
       "      <td>Yaser Talebi</td>\n",
       "      <td>-30147513</td>\n",
       "    </tr>\n",
       "    <tr>\n",
       "      <th>3868</th>\n",
       "      <td>Jay Coster</td>\n",
       "      <td>-191207</td>\n",
       "    </tr>\n",
       "  </tbody>\n",
       "</table>\n",
       "<p>3869 rows × 2 columns</p>\n",
       "</div>"
      ],
      "text/plain": [
       "             director  net_profit\n",
       "0          Ethan Coen    42160680\n",
       "1           Joel Coen    42160680\n",
       "2           Anbarasan     -700000\n",
       "3     Dexter Fletcher    22060480\n",
       "4           Gary Ross   -26762748\n",
       "...               ...         ...\n",
       "3864    Joanna Wierig   -13627243\n",
       "3865        Zefei Liu    45080579\n",
       "3866  Chase Pottinger    45080579\n",
       "3867     Yaser Talebi   -30147513\n",
       "3868       Jay Coster     -191207\n",
       "\n",
       "[3869 rows x 2 columns]"
      ]
     },
     "execution_count": 30,
     "metadata": {},
     "output_type": "execute_result"
    }
   ],
   "source": [
    "director = pd.read_sql(\"\"\"\n",
    "SELECT pe.primary_name as director, (mob.worldwide_gross - mob.production_budget) as net_profit\n",
    "FROM movie_basics mb, principals pr, persons pe, movie_budgets mob\n",
    "WHERE   mb.movie_id = pr.movie_id \n",
    "        AND pr.person_id = pe.person_id\n",
    "        AND mb.primary_title = mob.movie\n",
    "        AND pr.category = 'director'\n",
    ";\n",
    "\"\"\", conn)\n",
    "director"
   ]
  },
  {
   "cell_type": "markdown",
   "metadata": {},
   "source": [
    "Our goal is to gain a deeper understanding of the statistics underlying our sample population, with a particular focus on identifying any significant differences between two groups, namely the directors and mean net profits. We aim to test our hypothesis that directors make a significantly higher net profit than the population mean, while rejecting the null hypothesis that they do not.\n",
    "\n",
    "Hypothesis: (Director) makes significantly more net profit than our population mean.\n",
    "\n",
    "Null Hypothesis: (Director) does not make significantly more net profit than our population mean.\n",
    "\n",
    "The formula for the t-test is as follows:\n"
   ]
  },
  {
   "cell_type": "code",
   "execution_count": 31,
   "metadata": {},
   "outputs": [
    {
     "ename": "NameError",
     "evalue": "name 'math' is not defined",
     "output_type": "error",
     "traceback": [
      "\u001b[1;31m---------------------------------------------------------------------------\u001b[0m",
      "\u001b[1;31mNameError\u001b[0m                                 Traceback (most recent call last)",
      "\u001b[1;32m<ipython-input-31-a6a78d441463>\u001b[0m in \u001b[0;36m<module>\u001b[1;34m\u001b[0m\n\u001b[0;32m      1\u001b[0m \u001b[0msample_mean\u001b[0m \u001b[1;33m=\u001b[0m \u001b[0mdirector_AGG\u001b[0m\u001b[1;33m[\u001b[0m\u001b[1;34m'mean_net_profit'\u001b[0m\u001b[1;33m]\u001b[0m\u001b[1;33m.\u001b[0m\u001b[0mmean\u001b[0m\u001b[1;33m(\u001b[0m\u001b[1;33m)\u001b[0m\u001b[1;33m\u001b[0m\u001b[1;33m\u001b[0m\u001b[0m\n\u001b[0;32m      2\u001b[0m \u001b[0msample_variance\u001b[0m \u001b[1;33m=\u001b[0m \u001b[1;33m(\u001b[0m\u001b[1;33m(\u001b[0m\u001b[0mdirector_AGG\u001b[0m\u001b[1;33m[\u001b[0m\u001b[1;34m'mean_net_profit'\u001b[0m\u001b[1;33m]\u001b[0m \u001b[1;33m-\u001b[0m \u001b[0msample_mean\u001b[0m\u001b[1;33m)\u001b[0m\u001b[1;33m**\u001b[0m\u001b[1;36m2\u001b[0m\u001b[1;33m)\u001b[0m\u001b[1;33m.\u001b[0m\u001b[0msum\u001b[0m\u001b[1;33m(\u001b[0m\u001b[1;33m)\u001b[0m\u001b[1;33m/\u001b[0m\u001b[1;33m(\u001b[0m\u001b[0mlen\u001b[0m\u001b[1;33m(\u001b[0m\u001b[0mdirector_AGG\u001b[0m\u001b[1;33m)\u001b[0m\u001b[1;33m-\u001b[0m\u001b[1;36m1\u001b[0m\u001b[1;33m)\u001b[0m\u001b[1;33m\u001b[0m\u001b[1;33m\u001b[0m\u001b[0m\n\u001b[1;32m----> 3\u001b[1;33m \u001b[0msample_std\u001b[0m \u001b[1;33m=\u001b[0m \u001b[0mmath\u001b[0m\u001b[1;33m.\u001b[0m\u001b[0msqrt\u001b[0m\u001b[1;33m(\u001b[0m\u001b[0msample_variance\u001b[0m\u001b[1;33m)\u001b[0m\u001b[1;33m\u001b[0m\u001b[1;33m\u001b[0m\u001b[0m\n\u001b[0m\u001b[0;32m      4\u001b[0m \u001b[0mpopulation_mean\u001b[0m \u001b[1;33m=\u001b[0m \u001b[0mdirector\u001b[0m\u001b[1;33m[\u001b[0m\u001b[1;34m'net_profit'\u001b[0m\u001b[1;33m]\u001b[0m\u001b[1;33m.\u001b[0m\u001b[0mmean\u001b[0m\u001b[1;33m(\u001b[0m\u001b[1;33m)\u001b[0m\u001b[1;33m\u001b[0m\u001b[1;33m\u001b[0m\u001b[0m\n\u001b[0;32m      5\u001b[0m \u001b[1;33m\u001b[0m\u001b[0m\n",
      "\u001b[1;31mNameError\u001b[0m: name 'math' is not defined"
     ]
    }
   ],
   "source": [
    "sample_mean = director_AGG['mean_net_profit'].mean()\n",
    "sample_variance = ((director_AGG['mean_net_profit'] - sample_mean)**2).sum()/(len(director_AGG)-1)\n",
    "sample_std = math.sqrt(sample_variance)\n",
    "population_mean = director['net_profit'].mean()\n",
    "\n",
    "t_test = ttest_1samp(director_AGG['mean_net_profit'], population_mean)\n",
    "\n",
    "print(\"Sample mean of mean net profit:\", sample_mean)\n",
    "print(\"Sample standard deviation of mean net profit:\", sample_std)\n",
    "print(\"population mean of mean net profit:\", population_mean)\n",
    "print(\"t-test statistic:\", t_test)"
   ]
  },
  {
   "cell_type": "markdown",
   "metadata": {},
   "source": [
    "The t-test statistic of 2.2198435887264623 suggests that there is a statistically significant difference between the sample mean and the population mean. This means that it is unlikely that the difference between the sample mean and the population mean is due to chance. The exact interpretation of this result would depend on the specific research question and hypothesis being tested.\n",
    "\n",
    "Sample mean of mean net profit: 108995329.64623013 Sample standard deviation of mean net profit: 60449890.53309928 population mean of mean net profit: 66560946.470664255 t-test statistic: 2.2198435887264623, pvalue=0.05357772228437993\n",
    "\n",
    "The Seaborn graph that we created is a bar plot of the t-test statistic for a sample of mean net profit data.\n",
    "\n",
    "The purpose of the t-test is to determine whether the mean net profit of a group of directors is significantly different from the population mean. The t-test statistic represents the difference between the sample mean and the population mean, standardized by the sample standard deviation and the sample size.\n",
    "\n",
    "The bar plot visualizes the value of the t-test statistic. If the t-test statistic is greater than zero, it indicates that the sample mean is greater than the population mean. Conversely, if the t-test statistic is less than zero, it indicates that the sample mean is less than the population mean."
   ]
  },
  {
   "cell_type": "markdown",
   "metadata": {},
   "source": [
    "## Writer\n"
   ]
  },
  {
   "cell_type": "markdown",
   "metadata": {},
   "source": [
    "Aggregated SQL query\n",
    "\n",
    "Top 10 writers with highest mean_net_profit with num_movies greater than 5 Ordered by highest mean_net_profit descending"
   ]
  },
  {
   "cell_type": "code",
   "execution_count": null,
   "metadata": {},
   "outputs": [
    {
     "data": {
      "text/html": [
       "<div>\n",
       "<style scoped>\n",
       "    .dataframe tbody tr th:only-of-type {\n",
       "        vertical-align: middle;\n",
       "    }\n",
       "\n",
       "    .dataframe tbody tr th {\n",
       "        vertical-align: top;\n",
       "    }\n",
       "\n",
       "    .dataframe thead th {\n",
       "        text-align: right;\n",
       "    }\n",
       "</style>\n",
       "<table border=\"1\" class=\"dataframe\">\n",
       "  <thead>\n",
       "    <tr style=\"text-align: right;\">\n",
       "      <th></th>\n",
       "      <th>writer</th>\n",
       "      <th>mean_net_profit</th>\n",
       "      <th>num_movies</th>\n",
       "    </tr>\n",
       "  </thead>\n",
       "  <tbody>\n",
       "    <tr>\n",
       "      <th>0</th>\n",
       "      <td>Jack Kirby</td>\n",
       "      <td>6.235416e+08</td>\n",
       "      <td>13</td>\n",
       "    </tr>\n",
       "    <tr>\n",
       "      <th>1</th>\n",
       "      <td>Stephen McFeely</td>\n",
       "      <td>6.037486e+08</td>\n",
       "      <td>7</td>\n",
       "    </tr>\n",
       "    <tr>\n",
       "      <th>2</th>\n",
       "      <td>Christopher Markus</td>\n",
       "      <td>6.037486e+08</td>\n",
       "      <td>7</td>\n",
       "    </tr>\n",
       "    <tr>\n",
       "      <th>3</th>\n",
       "      <td>Stan Lee</td>\n",
       "      <td>5.967671e+08</td>\n",
       "      <td>16</td>\n",
       "    </tr>\n",
       "    <tr>\n",
       "      <th>4</th>\n",
       "      <td>Linda Woolverton</td>\n",
       "      <td>5.860717e+08</td>\n",
       "      <td>7</td>\n",
       "    </tr>\n",
       "    <tr>\n",
       "      <th>5</th>\n",
       "      <td>Rick Jaffa</td>\n",
       "      <td>4.822119e+08</td>\n",
       "      <td>6</td>\n",
       "    </tr>\n",
       "    <tr>\n",
       "      <th>6</th>\n",
       "      <td>Amanda Silver</td>\n",
       "      <td>4.822119e+08</td>\n",
       "      <td>6</td>\n",
       "    </tr>\n",
       "    <tr>\n",
       "      <th>7</th>\n",
       "      <td>Jeff Pinkner</td>\n",
       "      <td>3.706335e+08</td>\n",
       "      <td>6</td>\n",
       "    </tr>\n",
       "    <tr>\n",
       "      <th>8</th>\n",
       "      <td>Jonathan Aibel</td>\n",
       "      <td>2.590552e+08</td>\n",
       "      <td>6</td>\n",
       "    </tr>\n",
       "    <tr>\n",
       "      <th>9</th>\n",
       "      <td>Glenn Berger</td>\n",
       "      <td>2.590552e+08</td>\n",
       "      <td>6</td>\n",
       "    </tr>\n",
       "  </tbody>\n",
       "</table>\n",
       "</div>"
      ],
      "text/plain": [
       "               writer  mean_net_profit  num_movies\n",
       "0          Jack Kirby     6.235416e+08          13\n",
       "1     Stephen McFeely     6.037486e+08           7\n",
       "2  Christopher Markus     6.037486e+08           7\n",
       "3            Stan Lee     5.967671e+08          16\n",
       "4    Linda Woolverton     5.860717e+08           7\n",
       "5          Rick Jaffa     4.822119e+08           6\n",
       "6       Amanda Silver     4.822119e+08           6\n",
       "7        Jeff Pinkner     3.706335e+08           6\n",
       "8      Jonathan Aibel     2.590552e+08           6\n",
       "9        Glenn Berger     2.590552e+08           6"
      ]
     },
     "execution_count": 4,
     "metadata": {},
     "output_type": "execute_result"
    }
   ],
   "source": [
    "#More code!\n",
    "writer_AGG = pd.read_sql(\"\"\"\n",
    "SELECT pe.primary_name as writer, AVG(mob.worldwide_gross - mob.production_budget) as mean_net_profit, COUNT(pe.primary_name) as num_movies\n",
    "FROM movie_basics mb, principals pr, persons pe, movie_budgets mob\n",
    "WHERE   mb.movie_id = pr.movie_id \n",
    "        AND pr.person_id = pe.person_id\n",
    "        AND mb.primary_title = mob.movie\n",
    "        AND pr.category = 'writer'\n",
    "GROUP BY pe.primary_name\n",
    "HAVING num_movies > 5\n",
    "ORDER BY mean_net_profit DESC\n",
    "LIMIT 10\n",
    ";\n",
    "\"\"\", conn)\n",
    "writer_AGG"
   ]
  },
  {
   "cell_type": "markdown",
   "metadata": {},
   "source": [
    "We're using matplotlib to create a bar graph and visualize our sample population data for better insights"
   ]
  },
  {
   "cell_type": "code",
   "execution_count": null,
   "metadata": {},
   "outputs": [
    {
     "data": {
      "text/plain": [
       "<AxesSubplot:xlabel='writer'>"
      ]
     },
     "execution_count": 5,
     "metadata": {},
     "output_type": "execute_result"
    },
    {
     "data": {
      "image/png": "[encoded data removed]",
      "text/plain": [
       "<Figure size 432x288 with 1 Axes>"
      ]
     },
     "metadata": {
      "needs_background": "light"
     },
     "output_type": "display_data"
    }
   ],
   "source": [
    "writer_AGG.plot.bar(x='writer', y='mean_net_profit')"
   ]
  },
  {
   "cell_type": "markdown",
   "metadata": {},
   "source": [
    "Disaggregated SQL query 2 categories\n",
    "\n",
    "Writer\n",
    "net_profit"
   ]
  },
  {
   "cell_type": "code",
   "execution_count": null,
   "metadata": {},
   "outputs": [
    {
     "data": {
      "text/html": [
       "<div>\n",
       "<style scoped>\n",
       "    .dataframe tbody tr th:only-of-type {\n",
       "        vertical-align: middle;\n",
       "    }\n",
       "\n",
       "    .dataframe tbody tr th {\n",
       "        vertical-align: top;\n",
       "    }\n",
       "\n",
       "    .dataframe thead th {\n",
       "        text-align: right;\n",
       "    }\n",
       "</style>\n",
       "<table border=\"1\" class=\"dataframe\">\n",
       "  <thead>\n",
       "    <tr style=\"text-align: right;\">\n",
       "      <th></th>\n",
       "      <th>writer</th>\n",
       "      <th>net_profit</th>\n",
       "    </tr>\n",
       "  </thead>\n",
       "  <tbody>\n",
       "    <tr>\n",
       "      <th>0</th>\n",
       "      <td>Madhan Karky</td>\n",
       "      <td>-700000</td>\n",
       "    </tr>\n",
       "    <tr>\n",
       "      <th>1</th>\n",
       "      <td>Sean Macaulay</td>\n",
       "      <td>22060480</td>\n",
       "    </tr>\n",
       "    <tr>\n",
       "      <th>2</th>\n",
       "      <td>Simon Kelton</td>\n",
       "      <td>22060480</td>\n",
       "    </tr>\n",
       "    <tr>\n",
       "      <th>3</th>\n",
       "      <td>Leonard Hartman</td>\n",
       "      <td>-26762748</td>\n",
       "    </tr>\n",
       "    <tr>\n",
       "      <th>4</th>\n",
       "      <td>Deborah Kaplan</td>\n",
       "      <td>13618920</td>\n",
       "    </tr>\n",
       "    <tr>\n",
       "      <th>...</th>\n",
       "      <td>...</td>\n",
       "      <td>...</td>\n",
       "    </tr>\n",
       "    <tr>\n",
       "      <th>4349</th>\n",
       "      <td>Emil B. Garuba</td>\n",
       "      <td>-625000</td>\n",
       "    </tr>\n",
       "    <tr>\n",
       "      <th>4350</th>\n",
       "      <td>Mariam Nwaringa</td>\n",
       "      <td>-625000</td>\n",
       "    </tr>\n",
       "    <tr>\n",
       "      <th>4351</th>\n",
       "      <td>Chijioke Ononiwu</td>\n",
       "      <td>-625000</td>\n",
       "    </tr>\n",
       "    <tr>\n",
       "      <th>4352</th>\n",
       "      <td>Farzaneh Fathi</td>\n",
       "      <td>-30147513</td>\n",
       "    </tr>\n",
       "    <tr>\n",
       "      <th>4353</th>\n",
       "      <td>Reza Shirvani</td>\n",
       "      <td>-30147513</td>\n",
       "    </tr>\n",
       "  </tbody>\n",
       "</table>\n",
       "<p>4354 rows × 2 columns</p>\n",
       "</div>"
      ],
      "text/plain": [
       "                writer  net_profit\n",
       "0         Madhan Karky     -700000\n",
       "1        Sean Macaulay    22060480\n",
       "2         Simon Kelton    22060480\n",
       "3      Leonard Hartman   -26762748\n",
       "4       Deborah Kaplan    13618920\n",
       "...                ...         ...\n",
       "4349    Emil B. Garuba     -625000\n",
       "4350   Mariam Nwaringa     -625000\n",
       "4351  Chijioke Ononiwu     -625000\n",
       "4352    Farzaneh Fathi   -30147513\n",
       "4353     Reza Shirvani   -30147513\n",
       "\n",
       "[4354 rows x 2 columns]"
      ]
     },
     "execution_count": 6,
     "metadata": {},
     "output_type": "execute_result"
    }
   ],
   "source": [
    "writer = pd.read_sql(\"\"\"\n",
    "SELECT pe.primary_name as writer, (mob.worldwide_gross - mob.production_budget) as net_profit\n",
    "FROM movie_basics mb, principals pr, persons pe, movie_budgets mob\n",
    "WHERE   mb.movie_id = pr.movie_id \n",
    "        AND pr.person_id = pe.person_id\n",
    "        AND mb.primary_title = mob.movie\n",
    "        AND pr.category = 'writer'\n",
    ";\n",
    "\"\"\", conn)\n",
    "writer"
   ]
  },
  {
   "cell_type": "markdown",
   "metadata": {},
   "source": [
    "Our goal is to gain a deeper understanding of the statistics underlying our sample population, with a particular focus on identifying any significant differences between two groups, namely the writers and mean net profits. We aim to test our hypothesis that writers make a significantly higher net profit than the population mean, while rejecting the null hypothesis that they do not.\n",
    "\n",
    "Hypothesis: (writer) makes significantly more net profit than our population mean.\n",
    "\n",
    "Null Hypothesis: (writer) does not make significantly more net profit than our population mean."
   ]
  },
  {
   "cell_type": "code",
   "execution_count": null,
   "metadata": {},
   "outputs": [
    {
     "name": "stdout",
     "output_type": "stream",
     "text": [
      "Sample mean of mean net profit: 486704518.063141\n",
      "Sample standard deviation of mean net profit: 143477399.48911032\n",
      "population mean of mean net profit: 107977945.73840147\n",
      "t-test statistic: Ttest_1sampResult(statistic=8.347228087762815, pvalue=1.573882281540297e-05)\n"
     ]
    }
   ],
   "source": [
    "sample_mean = writer_AGG['mean_net_profit'].mean()\n",
    "sample_variance = ((writer_AGG['mean_net_profit'] - sample_mean)**2).sum()/(len(writer_AGG)-1)\n",
    "sample_std = math.sqrt(sample_variance)\n",
    "population_mean = writer['net_profit'].mean()\n",
    "\n",
    "#t_test = (sample_mean - population_mean) / (sample_std/math.sqrt(10))\n",
    "t_test = ttest_1samp(writer_AGG['mean_net_profit'], population_mean)\n",
    "print(\"Sample mean of mean net profit:\", sample_mean)\n",
    "print(\"Sample standard deviation of mean net profit:\", sample_std)\n",
    "print(\"population mean of mean net profit:\", population_mean)\n",
    "print(\"t-test statistic:\", t_test)"
   ]
  },
  {
   "cell_type": "markdown",
   "metadata": {},
   "source": [
    "The t-test statistic of 8.347 indicates that the difference between the sample mean of mean net profit (486704518.06) and the population mean of mean net profit (107977945.74) is statistically significant. The p-value of 1.573882281540297e-05, which is less than the commonly used significance level of 0.05, also supports this conclusion.\n",
    "\n",
    "Therefore, we can reject the null hypothesis and conclude that the top 10 writers do make significantly more net profit than the population mean. However, it is important to note that this conclusion is based on the specific sample and population studied and may not be generalizable to other populations or contexts. Further research and analysis may be necessary to confirm and extend this finding."
   ]
  }
 ],
 "metadata": {
  "kernelspec": {
   "display_name": "Python 3",
   "language": "python",
   "name": "python3"
  },
  "language_info": {
   "codemirror_mode": {
    "name": "ipython",
    "version": 3
   },
   "file_extension": ".py",
   "mimetype": "text/x-python",
   "name": "python",
   "nbconvert_exporter": "python",
   "pygments_lexer": "ipython3",
   "version": "3.8.5"
  },
  "vscode": {
   "interpreter": {
    "hash": "86834c0c797eae9b3c1f2ba1858fe23f21ee3f633c23a344a1f3a34de074df11"
   }
  }
 },
 "nbformat": 4,
 "nbformat_minor": 2
}
